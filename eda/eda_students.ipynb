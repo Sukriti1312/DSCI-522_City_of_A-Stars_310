{
 "cells": [
  {
   "cell_type": "markdown",
   "metadata": {},
   "source": [
    "# EDA on jupyter"
   ]
  },
  {
   "cell_type": "code",
   "execution_count": 1,
   "metadata": {},
   "outputs": [],
   "source": [
    "import pandas as pd\n",
    "import numpy as np\n",
    "import altair as alt\n",
    "from selenium import webdriver\n",
    "from docopt import docopt"
   ]
  },
  {
   "cell_type": "markdown",
   "metadata": {},
   "source": [
    "## Research Question"
   ]
  },
  {
   "cell_type": "markdown",
   "metadata": {},
   "source": [
    "The analysis will focus on answering the following inferential research questions:\n",
    "\n",
    "- Do secondary school students who are in a relationship have different grades for Maths than students who are not?\n",
    "- Do secondary school students who are in a relationship have different grades for Portugese than students who are not?"
   ]
  },
  {
   "cell_type": "markdown",
   "metadata": {},
   "source": [
    "## Theme setting for altair"
   ]
  },
  {
   "cell_type": "code",
   "execution_count": 2,
   "metadata": {},
   "outputs": [
    {
     "data": {
      "text/plain": [
       "ThemeRegistry.enable('mds_special')"
      ]
     },
     "execution_count": 2,
     "metadata": {},
     "output_type": "execute_result"
    }
   ],
   "source": [
    "def mds_special():\n",
    "    font = \"Arial\"\n",
    "    axisColor = \"#000000\"\n",
    "    gridColor = \"#DEDDDD\"\n",
    "    return {\n",
    "        \n",
    "        \"config\": {\n",
    "            \"title\": {\n",
    "                \"fontSize\": 24,\n",
    "                \"font\": font,\n",
    "                \"anchor\": \"start\", # equivalent of left-aligned.\n",
    "                \"fontColor\": \"#000000\"\n",
    "            },\n",
    "            \"background\": \"white\",\n",
    "            \"axisX\": {\n",
    "                \"domain\": True,\n",
    "                #\"domainColor\": axisColor,\n",
    "                \"gridColor\": gridColor,\n",
    "                \"domainWidth\": 1,\n",
    "                \"grid\": False,\n",
    "                \"labelFont\": font,\n",
    "                \"labelFontSize\": 12,\n",
    "                \"labelAngle\": 0, \n",
    "                #\"tickColor\": axisColor,\n",
    "                \"tickSize\": 5, # default, including it just to show you can change it\n",
    "                #\"titleFont\": font,\n",
    "                \"titleFontSize\": 18,\n",
    "                \"titlePadding\": 10, # guessing, not specified in styleguide\n",
    "                \"title\": \"X Axis Title (units)\", \n",
    "            },\n",
    "            \"axisY\": {\n",
    "                \"domain\": False,\n",
    "                \"grid\": True,\n",
    "                \"gridColor\": gridColor,\n",
    "                \"gridWidth\": 1,\n",
    "                \"labelFont\": font,\n",
    "                \"labelFontSize\": 12,\n",
    "                \"labelAngle\": 0, \n",
    "                #\"ticks\": False, # even if you don't have a \"domain\" you need to turn these off.\n",
    "                \"titleFont\": font,\n",
    "                \"titleFontSize\": 18,\n",
    "                \"titlePadding\": 10, # guessing, not specified in styleguide\n",
    "                \"title\": \"Y Axis Title (units)\", \n",
    "                # titles are by default vertical left of axis so we need to hack this \n",
    "                #\"titleAngle\": 0, # horizontal\n",
    "                #\"titleY\": -10, # move it up\n",
    "                #\"titleX\": 18, # move it to the right so it aligns with the labels \n",
    "            },\n",
    "                }\n",
    "            }\n",
    "    \n",
    "# register the custom theme under a chosen name\n",
    "alt.themes.register('mds_special', mds_special)\n",
    "\n",
    "# enable the newly registered theme\n",
    "alt.themes.enable('mds_special')"
   ]
  },
  {
   "cell_type": "markdown",
   "metadata": {},
   "source": [
    "## Read data"
   ]
  },
  {
   "cell_type": "code",
   "execution_count": 3,
   "metadata": {},
   "outputs": [],
   "source": [
    "df_mat = pd.read_csv(\"../data/student-mat_clean.csv\")\n",
    "df_por = pd.read_csv(\"../data/student-por_clean.csv\")"
   ]
  },
  {
   "cell_type": "markdown",
   "metadata": {},
   "source": [
    "#### Head and tail of math dataset"
   ]
  },
  {
   "cell_type": "code",
   "execution_count": 4,
   "metadata": {
    "scrolled": true
   },
   "outputs": [
    {
     "data": {
      "text/html": [
       "<div>\n",
       "<style scoped>\n",
       "    .dataframe tbody tr th:only-of-type {\n",
       "        vertical-align: middle;\n",
       "    }\n",
       "\n",
       "    .dataframe tbody tr th {\n",
       "        vertical-align: top;\n",
       "    }\n",
       "\n",
       "    .dataframe thead th {\n",
       "        text-align: right;\n",
       "    }\n",
       "</style>\n",
       "<table border=\"1\" class=\"dataframe\">\n",
       "  <thead>\n",
       "    <tr style=\"text-align: right;\">\n",
       "      <th></th>\n",
       "      <th>sex</th>\n",
       "      <th>romantic</th>\n",
       "      <th>total_grade</th>\n",
       "    </tr>\n",
       "  </thead>\n",
       "  <tbody>\n",
       "    <tr>\n",
       "      <th>0</th>\n",
       "      <td>Female</td>\n",
       "      <td>no</td>\n",
       "      <td>17</td>\n",
       "    </tr>\n",
       "    <tr>\n",
       "      <th>1</th>\n",
       "      <td>Female</td>\n",
       "      <td>no</td>\n",
       "      <td>16</td>\n",
       "    </tr>\n",
       "    <tr>\n",
       "      <th>2</th>\n",
       "      <td>Female</td>\n",
       "      <td>no</td>\n",
       "      <td>25</td>\n",
       "    </tr>\n",
       "    <tr>\n",
       "      <th>3</th>\n",
       "      <td>Female</td>\n",
       "      <td>yes</td>\n",
       "      <td>44</td>\n",
       "    </tr>\n",
       "    <tr>\n",
       "      <th>4</th>\n",
       "      <td>Female</td>\n",
       "      <td>no</td>\n",
       "      <td>26</td>\n",
       "    </tr>\n",
       "  </tbody>\n",
       "</table>\n",
       "</div>"
      ],
      "text/plain": [
       "      sex romantic  total_grade\n",
       "0  Female       no           17\n",
       "1  Female       no           16\n",
       "2  Female       no           25\n",
       "3  Female      yes           44\n",
       "4  Female       no           26"
      ]
     },
     "execution_count": 4,
     "metadata": {},
     "output_type": "execute_result"
    }
   ],
   "source": [
    "df_mat.head()"
   ]
  },
  {
   "cell_type": "code",
   "execution_count": 5,
   "metadata": {
    "scrolled": true
   },
   "outputs": [
    {
     "data": {
      "text/html": [
       "<div>\n",
       "<style scoped>\n",
       "    .dataframe tbody tr th:only-of-type {\n",
       "        vertical-align: middle;\n",
       "    }\n",
       "\n",
       "    .dataframe tbody tr th {\n",
       "        vertical-align: top;\n",
       "    }\n",
       "\n",
       "    .dataframe thead th {\n",
       "        text-align: right;\n",
       "    }\n",
       "</style>\n",
       "<table border=\"1\" class=\"dataframe\">\n",
       "  <thead>\n",
       "    <tr style=\"text-align: right;\">\n",
       "      <th></th>\n",
       "      <th>sex</th>\n",
       "      <th>romantic</th>\n",
       "      <th>total_grade</th>\n",
       "    </tr>\n",
       "  </thead>\n",
       "  <tbody>\n",
       "    <tr>\n",
       "      <th>390</th>\n",
       "      <td>Male</td>\n",
       "      <td>no</td>\n",
       "      <td>27</td>\n",
       "    </tr>\n",
       "    <tr>\n",
       "      <th>391</th>\n",
       "      <td>Male</td>\n",
       "      <td>no</td>\n",
       "      <td>46</td>\n",
       "    </tr>\n",
       "    <tr>\n",
       "      <th>392</th>\n",
       "      <td>Male</td>\n",
       "      <td>no</td>\n",
       "      <td>25</td>\n",
       "    </tr>\n",
       "    <tr>\n",
       "      <th>393</th>\n",
       "      <td>Male</td>\n",
       "      <td>no</td>\n",
       "      <td>33</td>\n",
       "    </tr>\n",
       "    <tr>\n",
       "      <th>394</th>\n",
       "      <td>Male</td>\n",
       "      <td>no</td>\n",
       "      <td>26</td>\n",
       "    </tr>\n",
       "  </tbody>\n",
       "</table>\n",
       "</div>"
      ],
      "text/plain": [
       "      sex romantic  total_grade\n",
       "390  Male       no           27\n",
       "391  Male       no           46\n",
       "392  Male       no           25\n",
       "393  Male       no           33\n",
       "394  Male       no           26"
      ]
     },
     "execution_count": 5,
     "metadata": {},
     "output_type": "execute_result"
    }
   ],
   "source": [
    "df_mat.tail()"
   ]
  },
  {
   "cell_type": "markdown",
   "metadata": {},
   "source": [
    "#### Head and tail of Portuguese dataset"
   ]
  },
  {
   "cell_type": "code",
   "execution_count": 6,
   "metadata": {},
   "outputs": [
    {
     "data": {
      "text/html": [
       "<div>\n",
       "<style scoped>\n",
       "    .dataframe tbody tr th:only-of-type {\n",
       "        vertical-align: middle;\n",
       "    }\n",
       "\n",
       "    .dataframe tbody tr th {\n",
       "        vertical-align: top;\n",
       "    }\n",
       "\n",
       "    .dataframe thead th {\n",
       "        text-align: right;\n",
       "    }\n",
       "</style>\n",
       "<table border=\"1\" class=\"dataframe\">\n",
       "  <thead>\n",
       "    <tr style=\"text-align: right;\">\n",
       "      <th></th>\n",
       "      <th>sex</th>\n",
       "      <th>romantic</th>\n",
       "      <th>total_grade</th>\n",
       "    </tr>\n",
       "  </thead>\n",
       "  <tbody>\n",
       "    <tr>\n",
       "      <th>0</th>\n",
       "      <td>Female</td>\n",
       "      <td>no</td>\n",
       "      <td>22</td>\n",
       "    </tr>\n",
       "    <tr>\n",
       "      <th>1</th>\n",
       "      <td>Female</td>\n",
       "      <td>no</td>\n",
       "      <td>31</td>\n",
       "    </tr>\n",
       "    <tr>\n",
       "      <th>2</th>\n",
       "      <td>Female</td>\n",
       "      <td>no</td>\n",
       "      <td>37</td>\n",
       "    </tr>\n",
       "    <tr>\n",
       "      <th>3</th>\n",
       "      <td>Female</td>\n",
       "      <td>yes</td>\n",
       "      <td>42</td>\n",
       "    </tr>\n",
       "    <tr>\n",
       "      <th>4</th>\n",
       "      <td>Female</td>\n",
       "      <td>no</td>\n",
       "      <td>37</td>\n",
       "    </tr>\n",
       "  </tbody>\n",
       "</table>\n",
       "</div>"
      ],
      "text/plain": [
       "      sex romantic  total_grade\n",
       "0  Female       no           22\n",
       "1  Female       no           31\n",
       "2  Female       no           37\n",
       "3  Female      yes           42\n",
       "4  Female       no           37"
      ]
     },
     "execution_count": 6,
     "metadata": {},
     "output_type": "execute_result"
    }
   ],
   "source": [
    "df_por.head()"
   ]
  },
  {
   "cell_type": "code",
   "execution_count": 7,
   "metadata": {},
   "outputs": [
    {
     "data": {
      "text/html": [
       "<div>\n",
       "<style scoped>\n",
       "    .dataframe tbody tr th:only-of-type {\n",
       "        vertical-align: middle;\n",
       "    }\n",
       "\n",
       "    .dataframe tbody tr th {\n",
       "        vertical-align: top;\n",
       "    }\n",
       "\n",
       "    .dataframe thead th {\n",
       "        text-align: right;\n",
       "    }\n",
       "</style>\n",
       "<table border=\"1\" class=\"dataframe\">\n",
       "  <thead>\n",
       "    <tr style=\"text-align: right;\">\n",
       "      <th></th>\n",
       "      <th>sex</th>\n",
       "      <th>romantic</th>\n",
       "      <th>total_grade</th>\n",
       "    </tr>\n",
       "  </thead>\n",
       "  <tbody>\n",
       "    <tr>\n",
       "      <th>644</th>\n",
       "      <td>Female</td>\n",
       "      <td>no</td>\n",
       "      <td>31</td>\n",
       "    </tr>\n",
       "    <tr>\n",
       "      <th>645</th>\n",
       "      <td>Female</td>\n",
       "      <td>no</td>\n",
       "      <td>46</td>\n",
       "    </tr>\n",
       "    <tr>\n",
       "      <th>646</th>\n",
       "      <td>Female</td>\n",
       "      <td>no</td>\n",
       "      <td>32</td>\n",
       "    </tr>\n",
       "    <tr>\n",
       "      <th>647</th>\n",
       "      <td>Male</td>\n",
       "      <td>no</td>\n",
       "      <td>30</td>\n",
       "    </tr>\n",
       "    <tr>\n",
       "      <th>648</th>\n",
       "      <td>Male</td>\n",
       "      <td>no</td>\n",
       "      <td>32</td>\n",
       "    </tr>\n",
       "  </tbody>\n",
       "</table>\n",
       "</div>"
      ],
      "text/plain": [
       "        sex romantic  total_grade\n",
       "644  Female       no           31\n",
       "645  Female       no           46\n",
       "646  Female       no           32\n",
       "647    Male       no           30\n",
       "648    Male       no           32"
      ]
     },
     "execution_count": 7,
     "metadata": {},
     "output_type": "execute_result"
    }
   ],
   "source": [
    "df_por.tail()"
   ]
  },
  {
   "cell_type": "markdown",
   "metadata": {},
   "source": [
    "## Statistics on the features of interest"
   ]
  },
  {
   "cell_type": "code",
   "execution_count": 8,
   "metadata": {
    "scrolled": true
   },
   "outputs": [
    {
     "data": {
      "text/plain": [
       "sex            False\n",
       "romantic       False\n",
       "total_grade    False\n",
       "dtype: bool"
      ]
     },
     "execution_count": 8,
     "metadata": {},
     "output_type": "execute_result"
    }
   ],
   "source": [
    "df_mat.isnull().any()"
   ]
  },
  {
   "cell_type": "markdown",
   "metadata": {},
   "source": [
    "> No null values"
   ]
  },
  {
   "cell_type": "code",
   "execution_count": 39,
   "metadata": {},
   "outputs": [
    {
     "data": {
      "text/html": [
       "<div>\n",
       "<style scoped>\n",
       "    .dataframe tbody tr th:only-of-type {\n",
       "        vertical-align: middle;\n",
       "    }\n",
       "\n",
       "    .dataframe tbody tr th {\n",
       "        vertical-align: top;\n",
       "    }\n",
       "\n",
       "    .dataframe thead th {\n",
       "        text-align: right;\n",
       "    }\n",
       "</style>\n",
       "<table border=\"1\" class=\"dataframe\">\n",
       "  <thead>\n",
       "    <tr style=\"text-align: right;\">\n",
       "      <th></th>\n",
       "      <th>romantic</th>\n",
       "      <th>count</th>\n",
       "      <th>mean</th>\n",
       "      <th>std</th>\n",
       "    </tr>\n",
       "  </thead>\n",
       "  <tbody>\n",
       "    <tr>\n",
       "      <th>0</th>\n",
       "      <td>no</td>\n",
       "      <td>263</td>\n",
       "      <td>32.8441</td>\n",
       "      <td>11.0268</td>\n",
       "    </tr>\n",
       "    <tr>\n",
       "      <th>1</th>\n",
       "      <td>yes</td>\n",
       "      <td>132</td>\n",
       "      <td>30.4318</td>\n",
       "      <td>11.0834</td>\n",
       "    </tr>\n",
       "  </tbody>\n",
       "</table>\n",
       "</div>"
      ],
      "text/plain": [
       "  romantic  count     mean      std\n",
       "0       no    263  32.8441  11.0268\n",
       "1      yes    132  30.4318  11.0834"
      ]
     },
     "execution_count": 39,
     "metadata": {},
     "output_type": "execute_result"
    }
   ],
   "source": [
    "by_grade_rel = df_mat[[\"romantic\", \"total_grade\"]].groupby(\"romantic\").agg(['count', 'mean', 'std'])\n",
    "by_grade_rel['total_grade'].reset_index().round(4).to_csv(ign)"
   ]
  },
  {
   "cell_type": "code",
   "execution_count": 41,
   "metadata": {},
   "outputs": [
    {
     "data": {
      "text/html": [
       "<div>\n",
       "<style scoped>\n",
       "    .dataframe tbody tr th:only-of-type {\n",
       "        vertical-align: middle;\n",
       "    }\n",
       "\n",
       "    .dataframe tbody tr th {\n",
       "        vertical-align: top;\n",
       "    }\n",
       "\n",
       "    .dataframe thead th {\n",
       "        text-align: right;\n",
       "    }\n",
       "</style>\n",
       "<table border=\"1\" class=\"dataframe\">\n",
       "  <thead>\n",
       "    <tr style=\"text-align: right;\">\n",
       "      <th></th>\n",
       "      <th>romantic</th>\n",
       "      <th>count</th>\n",
       "      <th>mean</th>\n",
       "      <th>std</th>\n",
       "    </tr>\n",
       "  </thead>\n",
       "  <tbody>\n",
       "    <tr>\n",
       "      <th>0</th>\n",
       "      <td>no</td>\n",
       "      <td>410</td>\n",
       "      <td>35.4732</td>\n",
       "      <td>8.2370</td>\n",
       "    </tr>\n",
       "    <tr>\n",
       "      <th>1</th>\n",
       "      <td>yes</td>\n",
       "      <td>239</td>\n",
       "      <td>33.8494</td>\n",
       "      <td>8.8571</td>\n",
       "    </tr>\n",
       "  </tbody>\n",
       "</table>\n",
       "</div>"
      ],
      "text/plain": [
       "  romantic  count     mean     std\n",
       "0       no    410  35.4732  8.2370\n",
       "1      yes    239  33.8494  8.8571"
      ]
     },
     "execution_count": 41,
     "metadata": {},
     "output_type": "execute_result"
    }
   ],
   "source": [
    "by_grade_por = df_por[[\"romantic\", \"total_grade\"]].groupby(\"romantic\").agg(['count', 'mean', 'std'])\n",
    "by_grade_por['total_grade'].reset_index().round(4)"
   ]
  },
  {
   "cell_type": "code",
   "execution_count": 26,
   "metadata": {},
   "outputs": [
    {
     "name": "stdout",
     "output_type": "stream",
     "text": [
      "132 math students were in relationships and 263 were not.\n",
      "239 portuguese language students were in relationships and 410 were not.\n"
     ]
    }
   ],
   "source": [
    "print(\"{} math students were in relationships and {} were not.\".format(\n",
    "    df_mat['romantic'].value_counts()['yes'], \n",
    "    df_mat['romantic'].value_counts()['no']))\n",
    "\n",
    "print(\"{} portuguese language students were in relationships and {} were not.\".format(\n",
    "    df_por['romantic'].value_counts()['yes'], \n",
    "    df_por['romantic'].value_counts()['no']))"
   ]
  },
  {
   "cell_type": "code",
   "execution_count": 27,
   "metadata": {},
   "outputs": [
    {
     "name": "stdout",
     "output_type": "stream",
     "text": [
      "The average total grade for math students in relationships was: 30.43/60\n",
      "The average total grade for math students not in relationships was: 32.84/60\n",
      "The average total grade for portuguese students in relationships was: 33.85/60\n",
      "The average total grade for portuguese students not in relationships was: 35.47/60\n"
     ]
    }
   ],
   "source": [
    "print(\"The average total grade for math students in relationships was: {:.2f}/60\".format(\n",
    "    df_mat[df_mat['romantic'] == 'yes']['total_grade'].mean()))\n",
    "print(\"The average total grade for math students not in relationships was: {:.2f}/60\".format(\n",
    "    df_mat[df_mat['romantic'] == 'no']['total_grade'].mean()))\n",
    "print(\"The average total grade for portuguese students in relationships was: {:.2f}/60\".format(\n",
    "    df_por[df_por['romantic'] == 'yes']['total_grade'].mean()))\n",
    "print(\"The average total grade for portuguese students not in relationships was: {:.2f}/60\".format(\n",
    "    df_por[df_por['romantic'] == 'no']['total_grade'].mean()))"
   ]
  },
  {
   "cell_type": "markdown",
   "metadata": {},
   "source": [
    "## Plots"
   ]
  },
  {
   "cell_type": "code",
   "execution_count": 31,
   "metadata": {},
   "outputs": [],
   "source": [
    "p_1_1 = alt.Chart(df_mat[df_mat['romantic']==\"yes\"]).transform_density(\n",
    "    'total_grade',\n",
    "    as_=['total_grade', 'density'],\n",
    ").mark_bar().encode(\n",
    "    x=alt.X(\"total_grade:Q\", title=\"Total grade\", bin = alt.Bin(extent=[0, 60], step=5)),\n",
    "    y='density:Q',\n",
    ").properties(\n",
    "    width = 300,\n",
    "    height = 400,\n",
    "    title = \"In relationship\"\n",
    ")\n",
    "p_1_2 = alt.Chart(df_mat[df_mat['romantic']==\"no\"]).transform_density(\n",
    "    'total_grade',\n",
    "    as_=['total_grade', 'density'],\n",
    ").mark_bar(color='orange').encode(\n",
    "    x=alt.X(\"total_grade:Q\", title=\"Total grade\", bin = alt.Bin(extent=[0, 60], step=5)),\n",
    "    y='density:Q',\n",
    ").properties(\n",
    "    width = 300,\n",
    "    height = 400,\n",
    "    title = \"Not in relationship\"\n",
    ")"
   ]
  },
  {
   "cell_type": "code",
   "execution_count": 32,
   "metadata": {},
   "outputs": [],
   "source": [
    "P_math = p_1_1 | p_1_2"
   ]
  },
  {
   "cell_type": "code",
   "execution_count": 33,
   "metadata": {},
   "outputs": [
    {
     "data": {
      "text/html": [
       "\n",
       "<div id=\"altair-viz-a4362819b1c64c909234177ba7496b56\"></div>\n",
       "<script type=\"text/javascript\">\n",
       "  (function(spec, embedOpt){\n",
       "    const outputDiv = document.getElementById(\"altair-viz-a4362819b1c64c909234177ba7496b56\");\n",
       "    const paths = {\n",
       "      \"vega\": \"https://cdn.jsdelivr.net/npm//vega@5?noext\",\n",
       "      \"vega-lib\": \"https://cdn.jsdelivr.net/npm//vega-lib?noext\",\n",
       "      \"vega-lite\": \"https://cdn.jsdelivr.net/npm//vega-lite@4.0.2?noext\",\n",
       "      \"vega-embed\": \"https://cdn.jsdelivr.net/npm//vega-embed@6?noext\",\n",
       "    };\n",
       "\n",
       "    function loadScript(lib) {\n",
       "      return new Promise(function(resolve, reject) {\n",
       "        var s = document.createElement('script');\n",
       "        s.src = paths[lib];\n",
       "        s.async = true;\n",
       "        s.onload = () => resolve(paths[lib]);\n",
       "        s.onerror = () => reject(`Error loading script: ${paths[lib]}`);\n",
       "        document.getElementsByTagName(\"head\")[0].appendChild(s);\n",
       "      });\n",
       "    }\n",
       "\n",
       "    function showError(err) {\n",
       "      outputDiv.innerHTML = `<div class=\"error\" style=\"color:red;\">${err}</div>`;\n",
       "      throw err;\n",
       "    }\n",
       "\n",
       "    function displayChart(vegaEmbed) {\n",
       "      vegaEmbed(outputDiv, spec, embedOpt)\n",
       "        .catch(err => showError(`Javascript Error: ${err.message}<br>This usually means there's a typo in your chart specification. See the javascript console for the full traceback.`));\n",
       "    }\n",
       "\n",
       "    if(typeof define === \"function\" && define.amd) {\n",
       "      requirejs.config({paths});\n",
       "      require([\"vega-embed\"], displayChart, err => showError(`Error loading script: ${err.message}`));\n",
       "    } else if (typeof vegaEmbed === \"function\") {\n",
       "      displayChart(vegaEmbed);\n",
       "    } else {\n",
       "      loadScript(\"vega\")\n",
       "        .then(() => loadScript(\"vega-lite\"))\n",
       "        .then(() => loadScript(\"vega-embed\"))\n",
       "        .catch(showError)\n",
       "        .then(() => displayChart(vegaEmbed));\n",
       "    }\n",
       "  })({\"config\": {\"title\": {\"fontSize\": 14, \"font\": \"Arial\", \"anchor\": \"start\", \"fontColor\": \"#000000\"}, \"background\": \"white\", \"axisX\": {\"domain\": true, \"gridColor\": \"#DEDDDD\", \"domainWidth\": 1, \"grid\": false, \"labelFont\": \"Arial\", \"labelFontSize\": 12, \"labelAngle\": 0, \"tickSize\": 5, \"titleFontSize\": 18, \"titlePadding\": 10, \"title\": \"X Axis Title (units)\"}, \"axisY\": {\"domain\": false, \"grid\": true, \"gridColor\": \"#DEDDDD\", \"gridWidth\": 1, \"labelFont\": \"Arial\", \"labelFontSize\": 12, \"labelAngle\": 0, \"titleFont\": \"Arial\", \"titleFontSize\": 18, \"titlePadding\": 10, \"title\": \"Y Axis Title (units)\"}}, \"hconcat\": [{\"data\": {\"name\": \"data-54614c3b115b98dd8a2748ba1f26f9d1\"}, \"mark\": \"bar\", \"encoding\": {\"x\": {\"type\": \"quantitative\", \"bin\": {\"extent\": [0, 60], \"step\": 5}, \"field\": \"total_grade\", \"title\": \"Total grade\"}, \"y\": {\"type\": \"quantitative\", \"field\": \"density\"}}, \"height\": 400, \"title\": \"In relationship\", \"transform\": [{\"density\": \"total_grade\", \"as\": [\"total_grade\", \"density\"]}], \"width\": 300}, {\"data\": {\"name\": \"data-a2d2ff5c57afd94b143a10c57fc106c8\"}, \"mark\": {\"type\": \"bar\", \"color\": \"orange\"}, \"encoding\": {\"x\": {\"type\": \"quantitative\", \"bin\": {\"extent\": [0, 60], \"step\": 5}, \"field\": \"total_grade\", \"title\": \"Total grade\"}, \"y\": {\"type\": \"quantitative\", \"field\": \"density\"}}, \"height\": 400, \"title\": \"Not in relationship\", \"transform\": [{\"density\": \"total_grade\", \"as\": [\"total_grade\", \"density\"]}], \"width\": 300}], \"$schema\": \"https://vega.github.io/schema/vega-lite/v4.0.2.json\", \"datasets\": {\"data-54614c3b115b98dd8a2748ba1f26f9d1\": [{\"sex\": \"Female\", \"romantic\": \"yes\", \"total_grade\": 44}, {\"sex\": \"Male\", \"romantic\": \"yes\", \"total_grade\": 46}, {\"sex\": \"Male\", \"romantic\": \"yes\", \"total_grade\": 33}, {\"sex\": \"Male\", \"romantic\": \"yes\", \"total_grade\": 49}, {\"sex\": \"Male\", \"romantic\": \"yes\", \"total_grade\": 46}, {\"sex\": \"Female\", \"romantic\": \"yes\", \"total_grade\": 28}, {\"sex\": \"Male\", \"romantic\": \"yes\", \"total_grade\": 36}, {\"sex\": \"Female\", \"romantic\": \"yes\", \"total_grade\": 22}, {\"sex\": \"Female\", \"romantic\": \"yes\", \"total_grade\": 27}, {\"sex\": \"Female\", \"romantic\": \"yes\", \"total_grade\": 29}, {\"sex\": \"Female\", \"romantic\": \"yes\", \"total_grade\": 30}, {\"sex\": \"Male\", \"romantic\": \"yes\", \"total_grade\": 38}, {\"sex\": \"Female\", \"romantic\": \"yes\", \"total_grade\": 19}, {\"sex\": \"Female\", \"romantic\": \"yes\", \"total_grade\": 33}, {\"sex\": \"Male\", \"romantic\": \"yes\", \"total_grade\": 34}, {\"sex\": \"Female\", \"romantic\": \"yes\", \"total_grade\": 24}, {\"sex\": \"Female\", \"romantic\": \"yes\", \"total_grade\": 22}, {\"sex\": \"Female\", \"romantic\": \"yes\", \"total_grade\": 27}, {\"sex\": \"Male\", \"romantic\": \"yes\", \"total_grade\": 50}, {\"sex\": \"Male\", \"romantic\": \"yes\", \"total_grade\": 36}, {\"sex\": \"Female\", \"romantic\": \"yes\", \"total_grade\": 45}, {\"sex\": \"Male\", \"romantic\": \"yes\", \"total_grade\": 27}, {\"sex\": \"Female\", \"romantic\": \"yes\", \"total_grade\": 39}, {\"sex\": \"Female\", \"romantic\": \"yes\", \"total_grade\": 23}, {\"sex\": \"Female\", \"romantic\": \"yes\", \"total_grade\": 28}, {\"sex\": \"Female\", \"romantic\": \"yes\", \"total_grade\": 12}, {\"sex\": \"Female\", \"romantic\": \"yes\", \"total_grade\": 8}, {\"sex\": \"Female\", \"romantic\": \"yes\", \"total_grade\": 35}, {\"sex\": \"Male\", \"romantic\": \"yes\", \"total_grade\": 9}, {\"sex\": \"Female\", \"romantic\": \"yes\", \"total_grade\": 11}, {\"sex\": \"Female\", \"romantic\": \"yes\", \"total_grade\": 4}, {\"sex\": \"Male\", \"romantic\": \"yes\", \"total_grade\": 38}, {\"sex\": \"Male\", \"romantic\": \"yes\", \"total_grade\": 13}, {\"sex\": \"Male\", \"romantic\": \"yes\", \"total_grade\": 11}, {\"sex\": \"Male\", \"romantic\": \"yes\", \"total_grade\": 39}, {\"sex\": \"Female\", \"romantic\": \"yes\", \"total_grade\": 30}, {\"sex\": \"Male\", \"romantic\": \"yes\", \"total_grade\": 5}, {\"sex\": \"Female\", \"romantic\": \"yes\", \"total_grade\": 34}, {\"sex\": \"Male\", \"romantic\": \"yes\", \"total_grade\": 34}, {\"sex\": \"Male\", \"romantic\": \"yes\", \"total_grade\": 13}, {\"sex\": \"Male\", \"romantic\": \"yes\", \"total_grade\": 21}, {\"sex\": \"Male\", \"romantic\": \"yes\", \"total_grade\": 20}, {\"sex\": \"Female\", \"romantic\": \"yes\", \"total_grade\": 45}, {\"sex\": \"Female\", \"romantic\": \"yes\", \"total_grade\": 42}, {\"sex\": \"Male\", \"romantic\": \"yes\", \"total_grade\": 44}, {\"sex\": \"Female\", \"romantic\": \"yes\", \"total_grade\": 15}, {\"sex\": \"Male\", \"romantic\": \"yes\", \"total_grade\": 27}, {\"sex\": \"Male\", \"romantic\": \"yes\", \"total_grade\": 31}, {\"sex\": \"Male\", \"romantic\": \"yes\", \"total_grade\": 37}, {\"sex\": \"Female\", \"romantic\": \"yes\", \"total_grade\": 26}, {\"sex\": \"Male\", \"romantic\": \"yes\", \"total_grade\": 35}, {\"sex\": \"Male\", \"romantic\": \"yes\", \"total_grade\": 34}, {\"sex\": \"Male\", \"romantic\": \"yes\", \"total_grade\": 45}, {\"sex\": \"Female\", \"romantic\": \"yes\", \"total_grade\": 24}, {\"sex\": \"Female\", \"romantic\": \"yes\", \"total_grade\": 44}, {\"sex\": \"Female\", \"romantic\": \"yes\", \"total_grade\": 28}, {\"sex\": \"Female\", \"romantic\": \"yes\", \"total_grade\": 36}, {\"sex\": \"Female\", \"romantic\": \"yes\", \"total_grade\": 21}, {\"sex\": \"Male\", \"romantic\": \"yes\", \"total_grade\": 37}, {\"sex\": \"Female\", \"romantic\": \"yes\", \"total_grade\": 16}, {\"sex\": \"Female\", \"romantic\": \"yes\", \"total_grade\": 11}, {\"sex\": \"Female\", \"romantic\": \"yes\", \"total_grade\": 24}, {\"sex\": \"Male\", \"romantic\": \"yes\", \"total_grade\": 27}, {\"sex\": \"Female\", \"romantic\": \"yes\", \"total_grade\": 34}, {\"sex\": \"Female\", \"romantic\": \"yes\", \"total_grade\": 40}, {\"sex\": \"Male\", \"romantic\": \"yes\", \"total_grade\": 29}, {\"sex\": \"Male\", \"romantic\": \"yes\", \"total_grade\": 30}, {\"sex\": \"Male\", \"romantic\": \"yes\", \"total_grade\": 40}, {\"sex\": \"Female\", \"romantic\": \"yes\", \"total_grade\": 37}, {\"sex\": \"Male\", \"romantic\": \"yes\", \"total_grade\": 36}, {\"sex\": \"Female\", \"romantic\": \"yes\", \"total_grade\": 7}, {\"sex\": \"Male\", \"romantic\": \"yes\", \"total_grade\": 22}, {\"sex\": \"Male\", \"romantic\": \"yes\", \"total_grade\": 13}, {\"sex\": \"Female\", \"romantic\": \"yes\", \"total_grade\": 19}, {\"sex\": \"Female\", \"romantic\": \"yes\", \"total_grade\": 53}, {\"sex\": \"Female\", \"romantic\": \"yes\", \"total_grade\": 19}, {\"sex\": \"Male\", \"romantic\": \"yes\", \"total_grade\": 28}, {\"sex\": \"Male\", \"romantic\": \"yes\", \"total_grade\": 29}, {\"sex\": \"Female\", \"romantic\": \"yes\", \"total_grade\": 6}, {\"sex\": \"Female\", \"romantic\": \"yes\", \"total_grade\": 43}, {\"sex\": \"Male\", \"romantic\": \"yes\", \"total_grade\": 43}, {\"sex\": \"Female\", \"romantic\": \"yes\", \"total_grade\": 30}, {\"sex\": \"Female\", \"romantic\": \"yes\", \"total_grade\": 36}, {\"sex\": \"Female\", \"romantic\": \"yes\", \"total_grade\": 28}, {\"sex\": \"Female\", \"romantic\": \"yes\", \"total_grade\": 25}, {\"sex\": \"Male\", \"romantic\": \"yes\", \"total_grade\": 24}, {\"sex\": \"Male\", \"romantic\": \"yes\", \"total_grade\": 34}, {\"sex\": \"Female\", \"romantic\": \"yes\", \"total_grade\": 37}, {\"sex\": \"Female\", \"romantic\": \"yes\", \"total_grade\": 26}, {\"sex\": \"Male\", \"romantic\": \"yes\", \"total_grade\": 47}, {\"sex\": \"Female\", \"romantic\": \"yes\", \"total_grade\": 33}, {\"sex\": \"Male\", \"romantic\": \"yes\", \"total_grade\": 42}, {\"sex\": \"Male\", \"romantic\": \"yes\", \"total_grade\": 25}, {\"sex\": \"Male\", \"romantic\": \"yes\", \"total_grade\": 39}, {\"sex\": \"Female\", \"romantic\": \"yes\", \"total_grade\": 18}, {\"sex\": \"Female\", \"romantic\": \"yes\", \"total_grade\": 39}, {\"sex\": \"Female\", \"romantic\": \"yes\", \"total_grade\": 34}, {\"sex\": \"Female\", \"romantic\": \"yes\", \"total_grade\": 41}, {\"sex\": \"Female\", \"romantic\": \"yes\", \"total_grade\": 35}, {\"sex\": \"Female\", \"romantic\": \"yes\", \"total_grade\": 28}, {\"sex\": \"Female\", \"romantic\": \"yes\", \"total_grade\": 39}, {\"sex\": \"Female\", \"romantic\": \"yes\", \"total_grade\": 29}, {\"sex\": \"Female\", \"romantic\": \"yes\", \"total_grade\": 42}, {\"sex\": \"Female\", \"romantic\": \"yes\", \"total_grade\": 40}, {\"sex\": \"Female\", \"romantic\": \"yes\", \"total_grade\": 16}, {\"sex\": \"Female\", \"romantic\": \"yes\", \"total_grade\": 15}, {\"sex\": \"Female\", \"romantic\": \"yes\", \"total_grade\": 34}, {\"sex\": \"Male\", \"romantic\": \"yes\", \"total_grade\": 46}, {\"sex\": \"Female\", \"romantic\": \"yes\", \"total_grade\": 17}, {\"sex\": \"Female\", \"romantic\": \"yes\", \"total_grade\": 40}, {\"sex\": \"Male\", \"romantic\": \"yes\", \"total_grade\": 47}, {\"sex\": \"Male\", \"romantic\": \"yes\", \"total_grade\": 29}, {\"sex\": \"Female\", \"romantic\": \"yes\", \"total_grade\": 43}, {\"sex\": \"Male\", \"romantic\": \"yes\", \"total_grade\": 23}, {\"sex\": \"Male\", \"romantic\": \"yes\", \"total_grade\": 35}, {\"sex\": \"Female\", \"romantic\": \"yes\", \"total_grade\": 28}, {\"sex\": \"Female\", \"romantic\": \"yes\", \"total_grade\": 35}, {\"sex\": \"Male\", \"romantic\": \"yes\", \"total_grade\": 30}, {\"sex\": \"Female\", \"romantic\": \"yes\", \"total_grade\": 39}, {\"sex\": \"Female\", \"romantic\": \"yes\", \"total_grade\": 32}, {\"sex\": \"Female\", \"romantic\": \"yes\", \"total_grade\": 46}, {\"sex\": \"Male\", \"romantic\": \"yes\", \"total_grade\": 39}, {\"sex\": \"Female\", \"romantic\": \"yes\", \"total_grade\": 13}, {\"sex\": \"Female\", \"romantic\": \"yes\", \"total_grade\": 31}, {\"sex\": \"Female\", \"romantic\": \"yes\", \"total_grade\": 37}, {\"sex\": \"Female\", \"romantic\": \"yes\", \"total_grade\": 23}, {\"sex\": \"Male\", \"romantic\": \"yes\", \"total_grade\": 38}, {\"sex\": \"Female\", \"romantic\": \"yes\", \"total_grade\": 35}, {\"sex\": \"Female\", \"romantic\": \"yes\", \"total_grade\": 44}, {\"sex\": \"Female\", \"romantic\": \"yes\", \"total_grade\": 45}, {\"sex\": \"Male\", \"romantic\": \"yes\", \"total_grade\": 20}, {\"sex\": \"Female\", \"romantic\": \"yes\", \"total_grade\": 17}], \"data-a2d2ff5c57afd94b143a10c57fc106c8\": [{\"sex\": \"Female\", \"romantic\": \"no\", \"total_grade\": 17}, {\"sex\": \"Female\", \"romantic\": \"no\", \"total_grade\": 16}, {\"sex\": \"Female\", \"romantic\": \"no\", \"total_grade\": 25}, {\"sex\": \"Female\", \"romantic\": \"no\", \"total_grade\": 26}, {\"sex\": \"Male\", \"romantic\": \"no\", \"total_grade\": 45}, {\"sex\": \"Male\", \"romantic\": \"no\", \"total_grade\": 35}, {\"sex\": \"Female\", \"romantic\": \"no\", \"total_grade\": 17}, {\"sex\": \"Male\", \"romantic\": \"no\", \"total_grade\": 53}, {\"sex\": \"Male\", \"romantic\": \"no\", \"total_grade\": 44}, {\"sex\": \"Female\", \"romantic\": \"no\", \"total_grade\": 27}, {\"sex\": \"Female\", \"romantic\": \"no\", \"total_grade\": 34}, {\"sex\": \"Male\", \"romantic\": \"no\", \"total_grade\": 42}, {\"sex\": \"Male\", \"romantic\": \"no\", \"total_grade\": 31}, {\"sex\": \"Female\", \"romantic\": \"no\", \"total_grade\": 42}, {\"sex\": \"Female\", \"romantic\": \"no\", \"total_grade\": 41}, {\"sex\": \"Female\", \"romantic\": \"no\", \"total_grade\": 28}, {\"sex\": \"Male\", \"romantic\": \"no\", \"total_grade\": 16}, {\"sex\": \"Male\", \"romantic\": \"no\", \"total_grade\": 28}, {\"sex\": \"Male\", \"romantic\": \"no\", \"total_grade\": 42}, {\"sex\": \"Male\", \"romantic\": \"no\", \"total_grade\": 42}, {\"sex\": \"Male\", \"romantic\": \"no\", \"total_grade\": 46}, {\"sex\": \"Male\", \"romantic\": \"no\", \"total_grade\": 38}, {\"sex\": \"Female\", \"romantic\": \"no\", \"total_grade\": 27}, {\"sex\": \"Female\", \"romantic\": \"no\", \"total_grade\": 23}, {\"sex\": \"Male\", \"romantic\": \"no\", \"total_grade\": 35}, {\"sex\": \"Male\", \"romantic\": \"no\", \"total_grade\": 46}, {\"sex\": \"Male\", \"romantic\": \"no\", \"total_grade\": 33}, {\"sex\": \"Male\", \"romantic\": \"no\", \"total_grade\": 32}, {\"sex\": \"Male\", \"romantic\": \"no\", \"total_grade\": 50}, {\"sex\": \"Male\", \"romantic\": \"no\", \"total_grade\": 30}, {\"sex\": \"Male\", \"romantic\": \"no\", \"total_grade\": 41}, {\"sex\": \"Female\", \"romantic\": \"no\", \"total_grade\": 21}, {\"sex\": \"Male\", \"romantic\": \"no\", \"total_grade\": 49}, {\"sex\": \"Female\", \"romantic\": \"no\", \"total_grade\": 35}, {\"sex\": \"Female\", \"romantic\": \"no\", \"total_grade\": 40}, {\"sex\": \"Male\", \"romantic\": \"no\", \"total_grade\": 55}, {\"sex\": \"Male\", \"romantic\": \"no\", \"total_grade\": 27}, {\"sex\": \"Female\", \"romantic\": \"no\", \"total_grade\": 29}, {\"sex\": \"Female\", \"romantic\": \"no\", \"total_grade\": 34}, {\"sex\": \"Male\", \"romantic\": \"no\", \"total_grade\": 58}, {\"sex\": \"Male\", \"romantic\": \"no\", \"total_grade\": 44}, {\"sex\": \"Female\", \"romantic\": \"no\", \"total_grade\": 21}, {\"sex\": \"Female\", \"romantic\": \"no\", \"total_grade\": 38}, {\"sex\": \"Female\", \"romantic\": \"no\", \"total_grade\": 37}, {\"sex\": \"Male\", \"romantic\": \"no\", \"total_grade\": 32}, {\"sex\": \"Female\", \"romantic\": \"no\", \"total_grade\": 29}, {\"sex\": \"Female\", \"romantic\": \"no\", \"total_grade\": 36}, {\"sex\": \"Female\", \"romantic\": \"no\", \"total_grade\": 44}, {\"sex\": \"Male\", \"romantic\": \"no\", \"total_grade\": 44}, {\"sex\": \"Male\", \"romantic\": \"no\", \"total_grade\": 28}, {\"sex\": \"Female\", \"romantic\": \"no\", \"total_grade\": 47}, {\"sex\": \"Female\", \"romantic\": \"no\", \"total_grade\": 32}, {\"sex\": \"Female\", \"romantic\": \"no\", \"total_grade\": 27}, {\"sex\": \"Female\", \"romantic\": \"no\", \"total_grade\": 28}, {\"sex\": \"Female\", \"romantic\": \"no\", \"total_grade\": 46}, {\"sex\": \"Female\", \"romantic\": \"no\", \"total_grade\": 20}, {\"sex\": \"Female\", \"romantic\": \"no\", \"total_grade\": 25}, {\"sex\": \"Female\", \"romantic\": \"no\", \"total_grade\": 48}, {\"sex\": \"Male\", \"romantic\": \"no\", \"total_grade\": 43}, {\"sex\": \"Male\", \"romantic\": \"no\", \"total_grade\": 30}, {\"sex\": \"Male\", \"romantic\": \"no\", \"total_grade\": 38}, {\"sex\": \"Female\", \"romantic\": \"no\", \"total_grade\": 34}, {\"sex\": \"Male\", \"romantic\": \"no\", \"total_grade\": 28}, {\"sex\": \"Male\", \"romantic\": \"no\", \"total_grade\": 32}, {\"sex\": \"Male\", \"romantic\": \"no\", \"total_grade\": 26}, {\"sex\": \"Female\", \"romantic\": \"no\", \"total_grade\": 15}, {\"sex\": \"Male\", \"romantic\": \"no\", \"total_grade\": 32}, {\"sex\": \"Female\", \"romantic\": \"no\", \"total_grade\": 19}, {\"sex\": \"Male\", \"romantic\": \"no\", \"total_grade\": 45}, {\"sex\": \"Female\", \"romantic\": \"no\", \"total_grade\": 29}, {\"sex\": \"Female\", \"romantic\": \"no\", \"total_grade\": 21}, {\"sex\": \"Female\", \"romantic\": \"no\", \"total_grade\": 41}, {\"sex\": \"Male\", \"romantic\": \"no\", \"total_grade\": 31}, {\"sex\": \"Male\", \"romantic\": \"no\", \"total_grade\": 21}, {\"sex\": \"Female\", \"romantic\": \"no\", \"total_grade\": 51}, {\"sex\": \"Female\", \"romantic\": \"no\", \"total_grade\": 19}, {\"sex\": \"Female\", \"romantic\": \"no\", \"total_grade\": 31}, {\"sex\": \"Male\", \"romantic\": \"no\", \"total_grade\": 38}, {\"sex\": \"Female\", \"romantic\": \"no\", \"total_grade\": 27}, {\"sex\": \"Male\", \"romantic\": \"no\", \"total_grade\": 41}, {\"sex\": \"Female\", \"romantic\": \"no\", \"total_grade\": 39}, {\"sex\": \"Female\", \"romantic\": \"no\", \"total_grade\": 24}, {\"sex\": \"Male\", \"romantic\": \"no\", \"total_grade\": 19}, {\"sex\": \"Male\", \"romantic\": \"no\", \"total_grade\": 37}, {\"sex\": \"Female\", \"romantic\": \"no\", \"total_grade\": 19}, {\"sex\": \"Male\", \"romantic\": \"no\", \"total_grade\": 52}, {\"sex\": \"Female\", \"romantic\": \"no\", \"total_grade\": 32}, {\"sex\": \"Female\", \"romantic\": \"no\", \"total_grade\": 23}, {\"sex\": \"Male\", \"romantic\": \"no\", \"total_grade\": 52}, {\"sex\": \"Male\", \"romantic\": \"no\", \"total_grade\": 56}, {\"sex\": \"Female\", \"romantic\": \"no\", \"total_grade\": 27}, {\"sex\": \"Female\", \"romantic\": \"no\", \"total_grade\": 36}, {\"sex\": \"Male\", \"romantic\": \"no\", \"total_grade\": 56}, {\"sex\": \"Male\", \"romantic\": \"no\", \"total_grade\": 46}, {\"sex\": \"Male\", \"romantic\": \"no\", \"total_grade\": 38}, {\"sex\": \"Male\", \"romantic\": \"no\", \"total_grade\": 40}, {\"sex\": \"Male\", \"romantic\": \"no\", \"total_grade\": 24}, {\"sex\": \"Male\", \"romantic\": \"no\", \"total_grade\": 40}, {\"sex\": \"Female\", \"romantic\": \"no\", \"total_grade\": 46}, {\"sex\": \"Male\", \"romantic\": \"no\", \"total_grade\": 45}, {\"sex\": \"Male\", \"romantic\": \"no\", \"total_grade\": 38}, {\"sex\": \"Male\", \"romantic\": \"no\", \"total_grade\": 38}, {\"sex\": \"Female\", \"romantic\": \"no\", \"total_grade\": 24}, {\"sex\": \"Male\", \"romantic\": \"no\", \"total_grade\": 11}, {\"sex\": \"Male\", \"romantic\": \"no\", \"total_grade\": 54}, {\"sex\": \"Female\", \"romantic\": \"no\", \"total_grade\": 34}, {\"sex\": \"Male\", \"romantic\": \"no\", \"total_grade\": 10}, {\"sex\": \"Female\", \"romantic\": \"no\", \"total_grade\": 47}, {\"sex\": \"Male\", \"romantic\": \"no\", \"total_grade\": 16}, {\"sex\": \"Male\", \"romantic\": \"no\", \"total_grade\": 27}, {\"sex\": \"Female\", \"romantic\": \"no\", \"total_grade\": 31}, {\"sex\": \"Female\", \"romantic\": \"no\", \"total_grade\": 41}, {\"sex\": \"Male\", \"romantic\": \"no\", \"total_grade\": 5}, {\"sex\": \"Female\", \"romantic\": \"no\", \"total_grade\": 30}, {\"sex\": \"Female\", \"romantic\": \"no\", \"total_grade\": 13}, {\"sex\": \"Female\", \"romantic\": \"no\", \"total_grade\": 32}, {\"sex\": \"Male\", \"romantic\": \"no\", \"total_grade\": 27}, {\"sex\": \"Male\", \"romantic\": \"no\", \"total_grade\": 27}, {\"sex\": \"Male\", \"romantic\": \"no\", \"total_grade\": 41}, {\"sex\": \"Female\", \"romantic\": \"no\", \"total_grade\": 27}, {\"sex\": \"Male\", \"romantic\": \"no\", \"total_grade\": 47}, {\"sex\": \"Male\", \"romantic\": \"no\", \"total_grade\": 7}, {\"sex\": \"Male\", \"romantic\": \"no\", \"total_grade\": 30}, {\"sex\": \"Male\", \"romantic\": \"no\", \"total_grade\": 35}, {\"sex\": \"Male\", \"romantic\": \"no\", \"total_grade\": 30}, {\"sex\": \"Female\", \"romantic\": \"no\", \"total_grade\": 13}, {\"sex\": \"Male\", \"romantic\": \"no\", \"total_grade\": 11}, {\"sex\": \"Male\", \"romantic\": \"no\", \"total_grade\": 34}, {\"sex\": \"Female\", \"romantic\": \"no\", \"total_grade\": 30}, {\"sex\": \"Male\", \"romantic\": \"no\", \"total_grade\": 28}, {\"sex\": \"Female\", \"romantic\": \"no\", \"total_grade\": 37}, {\"sex\": \"Male\", \"romantic\": \"no\", \"total_grade\": 17}, {\"sex\": \"Male\", \"romantic\": \"no\", \"total_grade\": 25}, {\"sex\": \"Female\", \"romantic\": \"no\", \"total_grade\": 50}, {\"sex\": \"Female\", \"romantic\": \"no\", \"total_grade\": 37}, {\"sex\": \"Male\", \"romantic\": \"no\", \"total_grade\": 27}, {\"sex\": \"Female\", \"romantic\": \"no\", \"total_grade\": 36}, {\"sex\": \"Female\", \"romantic\": \"no\", \"total_grade\": 25}, {\"sex\": \"Male\", \"romantic\": \"no\", \"total_grade\": 23}, {\"sex\": \"Male\", \"romantic\": \"no\", \"total_grade\": 27}, {\"sex\": \"Male\", \"romantic\": \"no\", \"total_grade\": 41}, {\"sex\": \"Male\", \"romantic\": \"no\", \"total_grade\": 48}, {\"sex\": \"Male\", \"romantic\": \"no\", \"total_grade\": 28}, {\"sex\": \"Female\", \"romantic\": \"no\", \"total_grade\": 54}, {\"sex\": \"Female\", \"romantic\": \"no\", \"total_grade\": 28}, {\"sex\": \"Female\", \"romantic\": \"no\", \"total_grade\": 48}, {\"sex\": \"Female\", \"romantic\": \"no\", \"total_grade\": 28}, {\"sex\": \"Female\", \"romantic\": \"no\", \"total_grade\": 28}, {\"sex\": \"Female\", \"romantic\": \"no\", \"total_grade\": 19}, {\"sex\": \"Female\", \"romantic\": \"no\", \"total_grade\": 31}, {\"sex\": \"Female\", \"romantic\": \"no\", \"total_grade\": 21}, {\"sex\": \"Female\", \"romantic\": \"no\", \"total_grade\": 28}, {\"sex\": \"Female\", \"romantic\": \"no\", \"total_grade\": 24}, {\"sex\": \"Female\", \"romantic\": \"no\", \"total_grade\": 39}, {\"sex\": \"Male\", \"romantic\": \"no\", \"total_grade\": 21}, {\"sex\": \"Female\", \"romantic\": \"no\", \"total_grade\": 28}, {\"sex\": \"Female\", \"romantic\": \"no\", \"total_grade\": 44}, {\"sex\": \"Male\", \"romantic\": \"no\", \"total_grade\": 20}, {\"sex\": \"Female\", \"romantic\": \"no\", \"total_grade\": 22}, {\"sex\": \"Female\", \"romantic\": \"no\", \"total_grade\": 29}, {\"sex\": \"Female\", \"romantic\": \"no\", \"total_grade\": 18}, {\"sex\": \"Female\", \"romantic\": \"no\", \"total_grade\": 49}, {\"sex\": \"Male\", \"romantic\": \"no\", \"total_grade\": 38}, {\"sex\": \"Female\", \"romantic\": \"no\", \"total_grade\": 40}, {\"sex\": \"Female\", \"romantic\": \"no\", \"total_grade\": 46}, {\"sex\": \"Male\", \"romantic\": \"no\", \"total_grade\": 35}, {\"sex\": \"Male\", \"romantic\": \"no\", \"total_grade\": 33}, {\"sex\": \"Male\", \"romantic\": \"no\", \"total_grade\": 40}, {\"sex\": \"Male\", \"romantic\": \"no\", \"total_grade\": 22}, {\"sex\": \"Female\", \"romantic\": \"no\", \"total_grade\": 35}, {\"sex\": \"Male\", \"romantic\": \"no\", \"total_grade\": 14}, {\"sex\": \"Male\", \"romantic\": \"no\", \"total_grade\": 33}, {\"sex\": \"Male\", \"romantic\": \"no\", \"total_grade\": 6}, {\"sex\": \"Male\", \"romantic\": \"no\", \"total_grade\": 37}, {\"sex\": \"Male\", \"romantic\": \"no\", \"total_grade\": 54}, {\"sex\": \"Male\", \"romantic\": \"no\", \"total_grade\": 37}, {\"sex\": \"Male\", \"romantic\": \"no\", \"total_grade\": 43}, {\"sex\": \"Male\", \"romantic\": \"no\", \"total_grade\": 22}, {\"sex\": \"Male\", \"romantic\": \"no\", \"total_grade\": 27}, {\"sex\": \"Male\", \"romantic\": \"no\", \"total_grade\": 23}, {\"sex\": \"Male\", \"romantic\": \"no\", \"total_grade\": 25}, {\"sex\": \"Male\", \"romantic\": \"no\", \"total_grade\": 32}, {\"sex\": \"Male\", \"romantic\": \"no\", \"total_grade\": 24}, {\"sex\": \"Female\", \"romantic\": \"no\", \"total_grade\": 39}, {\"sex\": \"Male\", \"romantic\": \"no\", \"total_grade\": 33}, {\"sex\": \"Male\", \"romantic\": \"no\", \"total_grade\": 43}, {\"sex\": \"Male\", \"romantic\": \"no\", \"total_grade\": 24}, {\"sex\": \"Male\", \"romantic\": \"no\", \"total_grade\": 37}, {\"sex\": \"Female\", \"romantic\": \"no\", \"total_grade\": 28}, {\"sex\": \"Male\", \"romantic\": \"no\", \"total_grade\": 51}, {\"sex\": \"Female\", \"romantic\": \"no\", \"total_grade\": 33}, {\"sex\": \"Female\", \"romantic\": \"no\", \"total_grade\": 27}, {\"sex\": \"Female\", \"romantic\": \"no\", \"total_grade\": 33}, {\"sex\": \"Male\", \"romantic\": \"no\", \"total_grade\": 27}, {\"sex\": \"Male\", \"romantic\": \"no\", \"total_grade\": 31}, {\"sex\": \"Male\", \"romantic\": \"no\", \"total_grade\": 30}, {\"sex\": \"Female\", \"romantic\": \"no\", \"total_grade\": 36}, {\"sex\": \"Female\", \"romantic\": \"no\", \"total_grade\": 27}, {\"sex\": \"Female\", \"romantic\": \"no\", \"total_grade\": 30}, {\"sex\": \"Male\", \"romantic\": \"no\", \"total_grade\": 33}, {\"sex\": \"Female\", \"romantic\": \"no\", \"total_grade\": 55}, {\"sex\": \"Female\", \"romantic\": \"no\", \"total_grade\": 37}, {\"sex\": \"Male\", \"romantic\": \"no\", \"total_grade\": 43}, {\"sex\": \"Male\", \"romantic\": \"no\", \"total_grade\": 43}, {\"sex\": \"Female\", \"romantic\": \"no\", \"total_grade\": 45}, {\"sex\": \"Female\", \"romantic\": \"no\", \"total_grade\": 54}, {\"sex\": \"Male\", \"romantic\": \"no\", \"total_grade\": 41}, {\"sex\": \"Male\", \"romantic\": \"no\", \"total_grade\": 37}, {\"sex\": \"Female\", \"romantic\": \"no\", \"total_grade\": 19}, {\"sex\": \"Female\", \"romantic\": \"no\", \"total_grade\": 41}, {\"sex\": \"Male\", \"romantic\": \"no\", \"total_grade\": 32}, {\"sex\": \"Female\", \"romantic\": \"no\", \"total_grade\": 41}, {\"sex\": \"Female\", \"romantic\": \"no\", \"total_grade\": 52}, {\"sex\": \"Female\", \"romantic\": \"no\", \"total_grade\": 38}, {\"sex\": \"Male\", \"romantic\": \"no\", \"total_grade\": 53}, {\"sex\": \"Female\", \"romantic\": \"no\", \"total_grade\": 32}, {\"sex\": \"Male\", \"romantic\": \"no\", \"total_grade\": 35}, {\"sex\": \"Female\", \"romantic\": \"no\", \"total_grade\": 16}, {\"sex\": \"Female\", \"romantic\": \"no\", \"total_grade\": 32}, {\"sex\": \"Female\", \"romantic\": \"no\", \"total_grade\": 33}, {\"sex\": \"Female\", \"romantic\": \"no\", \"total_grade\": 33}, {\"sex\": \"Female\", \"romantic\": \"no\", \"total_grade\": 41}, {\"sex\": \"Female\", \"romantic\": \"no\", \"total_grade\": 46}, {\"sex\": \"Male\", \"romantic\": \"no\", \"total_grade\": 32}, {\"sex\": \"Male\", \"romantic\": \"no\", \"total_grade\": 45}, {\"sex\": \"Male\", \"romantic\": \"no\", \"total_grade\": 31}, {\"sex\": \"Female\", \"romantic\": \"no\", \"total_grade\": 28}, {\"sex\": \"Male\", \"romantic\": \"no\", \"total_grade\": 25}, {\"sex\": \"Female\", \"romantic\": \"no\", \"total_grade\": 7}, {\"sex\": \"Female\", \"romantic\": \"no\", \"total_grade\": 19}, {\"sex\": \"Female\", \"romantic\": \"no\", \"total_grade\": 46}, {\"sex\": \"Female\", \"romantic\": \"no\", \"total_grade\": 40}, {\"sex\": \"Female\", \"romantic\": \"no\", \"total_grade\": 48}, {\"sex\": \"Female\", \"romantic\": \"no\", \"total_grade\": 29}, {\"sex\": \"Male\", \"romantic\": \"no\", \"total_grade\": 20}, {\"sex\": \"Female\", \"romantic\": \"no\", \"total_grade\": 31}, {\"sex\": \"Male\", \"romantic\": \"no\", \"total_grade\": 37}, {\"sex\": \"Male\", \"romantic\": \"no\", \"total_grade\": 23}, {\"sex\": \"Male\", \"romantic\": \"no\", \"total_grade\": 39}, {\"sex\": \"Male\", \"romantic\": \"no\", \"total_grade\": 24}, {\"sex\": \"Female\", \"romantic\": \"no\", \"total_grade\": 38}, {\"sex\": \"Female\", \"romantic\": \"no\", \"total_grade\": 50}, {\"sex\": \"Male\", \"romantic\": \"no\", \"total_grade\": 37}, {\"sex\": \"Female\", \"romantic\": \"no\", \"total_grade\": 35}, {\"sex\": \"Male\", \"romantic\": \"no\", \"total_grade\": 30}, {\"sex\": \"Female\", \"romantic\": \"no\", \"total_grade\": 16}, {\"sex\": \"Female\", \"romantic\": \"no\", \"total_grade\": 56}, {\"sex\": \"Female\", \"romantic\": \"no\", \"total_grade\": 26}, {\"sex\": \"Female\", \"romantic\": \"no\", \"total_grade\": 27}, {\"sex\": \"Female\", \"romantic\": \"no\", \"total_grade\": 30}, {\"sex\": \"Male\", \"romantic\": \"no\", \"total_grade\": 43}, {\"sex\": \"Male\", \"romantic\": \"no\", \"total_grade\": 32}, {\"sex\": \"Male\", \"romantic\": \"no\", \"total_grade\": 11}, {\"sex\": \"Male\", \"romantic\": \"no\", \"total_grade\": 16}, {\"sex\": \"Female\", \"romantic\": \"no\", \"total_grade\": 29}, {\"sex\": \"Female\", \"romantic\": \"no\", \"total_grade\": 12}, {\"sex\": \"Female\", \"romantic\": \"no\", \"total_grade\": 24}, {\"sex\": \"Female\", \"romantic\": \"no\", \"total_grade\": 11}, {\"sex\": \"Male\", \"romantic\": \"no\", \"total_grade\": 27}, {\"sex\": \"Male\", \"romantic\": \"no\", \"total_grade\": 46}, {\"sex\": \"Male\", \"romantic\": \"no\", \"total_grade\": 25}, {\"sex\": \"Male\", \"romantic\": \"no\", \"total_grade\": 33}, {\"sex\": \"Male\", \"romantic\": \"no\", \"total_grade\": 26}]}}, {\"mode\": \"vega-lite\"});\n",
       "</script>"
      ],
      "text/plain": [
       "alt.HConcatChart(...)"
      ]
     },
     "execution_count": 33,
     "metadata": {},
     "output_type": "execute_result"
    }
   ],
   "source": [
    "P_math.configure_title(\n",
    "    fontSize=14,\n",
    ")"
   ]
  },
  {
   "cell_type": "code",
   "execution_count": 34,
   "metadata": {},
   "outputs": [],
   "source": [
    "p_2_1 = alt.Chart(df_por[df_por['romantic']==\"yes\"]).transform_density(\n",
    "    'total_grade',\n",
    "    as_=['total_grade', 'density'],\n",
    ").mark_bar().encode(\n",
    "    x=alt.X(\"total_grade:Q\", title=\"Total grade\", bin = alt.Bin(extent=[0, 60], step=5)),\n",
    "    y='density:Q',\n",
    ").properties(\n",
    "    width = 300,\n",
    "    height = 400,\n",
    "    title = \"In relationship\"\n",
    ")\n",
    "p_2_2 = alt.Chart(df_por[df_por['romantic']==\"no\"]).transform_density(\n",
    "    'total_grade',\n",
    "    as_=['total_grade', 'density'],\n",
    ").mark_bar(color='orange').encode(\n",
    "    x=alt.X(\"total_grade:Q\", title=\"Total grade\", bin = alt.Bin(extent=[0, 60], step=5)),\n",
    "    y='density:Q',\n",
    ").properties(\n",
    "    width = 300,\n",
    "    height = 400,\n",
    "    title = \"Not in relationship\"\n",
    ")"
   ]
  },
  {
   "cell_type": "code",
   "execution_count": 35,
   "metadata": {},
   "outputs": [],
   "source": [
    "P_por = p_1_1 | p_1_2"
   ]
  },
  {
   "cell_type": "code",
   "execution_count": 36,
   "metadata": {},
   "outputs": [
    {
     "data": {
      "text/html": [
       "\n",
       "<div id=\"altair-viz-cdc8eab544a14657998e20ab27dc2977\"></div>\n",
       "<script type=\"text/javascript\">\n",
       "  (function(spec, embedOpt){\n",
       "    const outputDiv = document.getElementById(\"altair-viz-cdc8eab544a14657998e20ab27dc2977\");\n",
       "    const paths = {\n",
       "      \"vega\": \"https://cdn.jsdelivr.net/npm//vega@5?noext\",\n",
       "      \"vega-lib\": \"https://cdn.jsdelivr.net/npm//vega-lib?noext\",\n",
       "      \"vega-lite\": \"https://cdn.jsdelivr.net/npm//vega-lite@4.0.2?noext\",\n",
       "      \"vega-embed\": \"https://cdn.jsdelivr.net/npm//vega-embed@6?noext\",\n",
       "    };\n",
       "\n",
       "    function loadScript(lib) {\n",
       "      return new Promise(function(resolve, reject) {\n",
       "        var s = document.createElement('script');\n",
       "        s.src = paths[lib];\n",
       "        s.async = true;\n",
       "        s.onload = () => resolve(paths[lib]);\n",
       "        s.onerror = () => reject(`Error loading script: ${paths[lib]}`);\n",
       "        document.getElementsByTagName(\"head\")[0].appendChild(s);\n",
       "      });\n",
       "    }\n",
       "\n",
       "    function showError(err) {\n",
       "      outputDiv.innerHTML = `<div class=\"error\" style=\"color:red;\">${err}</div>`;\n",
       "      throw err;\n",
       "    }\n",
       "\n",
       "    function displayChart(vegaEmbed) {\n",
       "      vegaEmbed(outputDiv, spec, embedOpt)\n",
       "        .catch(err => showError(`Javascript Error: ${err.message}<br>This usually means there's a typo in your chart specification. See the javascript console for the full traceback.`));\n",
       "    }\n",
       "\n",
       "    if(typeof define === \"function\" && define.amd) {\n",
       "      requirejs.config({paths});\n",
       "      require([\"vega-embed\"], displayChart, err => showError(`Error loading script: ${err.message}`));\n",
       "    } else if (typeof vegaEmbed === \"function\") {\n",
       "      displayChart(vegaEmbed);\n",
       "    } else {\n",
       "      loadScript(\"vega\")\n",
       "        .then(() => loadScript(\"vega-lite\"))\n",
       "        .then(() => loadScript(\"vega-embed\"))\n",
       "        .catch(showError)\n",
       "        .then(() => displayChart(vegaEmbed));\n",
       "    }\n",
       "  })({\"config\": {\"title\": {\"fontSize\": 14, \"font\": \"Arial\", \"anchor\": \"start\", \"fontColor\": \"#000000\"}, \"background\": \"white\", \"axisX\": {\"domain\": true, \"gridColor\": \"#DEDDDD\", \"domainWidth\": 1, \"grid\": false, \"labelFont\": \"Arial\", \"labelFontSize\": 12, \"labelAngle\": 0, \"tickSize\": 5, \"titleFontSize\": 18, \"titlePadding\": 10, \"title\": \"X Axis Title (units)\"}, \"axisY\": {\"domain\": false, \"grid\": true, \"gridColor\": \"#DEDDDD\", \"gridWidth\": 1, \"labelFont\": \"Arial\", \"labelFontSize\": 12, \"labelAngle\": 0, \"titleFont\": \"Arial\", \"titleFontSize\": 18, \"titlePadding\": 10, \"title\": \"Y Axis Title (units)\"}}, \"hconcat\": [{\"data\": {\"name\": \"data-54614c3b115b98dd8a2748ba1f26f9d1\"}, \"mark\": \"bar\", \"encoding\": {\"x\": {\"type\": \"quantitative\", \"bin\": {\"extent\": [0, 60], \"step\": 5}, \"field\": \"total_grade\", \"title\": \"Total grade\"}, \"y\": {\"type\": \"quantitative\", \"field\": \"density\"}}, \"height\": 400, \"title\": \"In relationship\", \"transform\": [{\"density\": \"total_grade\", \"as\": [\"total_grade\", \"density\"]}], \"width\": 300}, {\"data\": {\"name\": \"data-a2d2ff5c57afd94b143a10c57fc106c8\"}, \"mark\": {\"type\": \"bar\", \"color\": \"orange\"}, \"encoding\": {\"x\": {\"type\": \"quantitative\", \"bin\": {\"extent\": [0, 60], \"step\": 5}, \"field\": \"total_grade\", \"title\": \"Total grade\"}, \"y\": {\"type\": \"quantitative\", \"field\": \"density\"}}, \"height\": 400, \"title\": \"Not in relationship\", \"transform\": [{\"density\": \"total_grade\", \"as\": [\"total_grade\", \"density\"]}], \"width\": 300}], \"$schema\": \"https://vega.github.io/schema/vega-lite/v4.0.2.json\", \"datasets\": {\"data-54614c3b115b98dd8a2748ba1f26f9d1\": [{\"sex\": \"Female\", \"romantic\": \"yes\", \"total_grade\": 44}, {\"sex\": \"Male\", \"romantic\": \"yes\", \"total_grade\": 46}, {\"sex\": \"Male\", \"romantic\": \"yes\", \"total_grade\": 33}, {\"sex\": \"Male\", \"romantic\": \"yes\", \"total_grade\": 49}, {\"sex\": \"Male\", \"romantic\": \"yes\", \"total_grade\": 46}, {\"sex\": \"Female\", \"romantic\": \"yes\", \"total_grade\": 28}, {\"sex\": \"Male\", \"romantic\": \"yes\", \"total_grade\": 36}, {\"sex\": \"Female\", \"romantic\": \"yes\", \"total_grade\": 22}, {\"sex\": \"Female\", \"romantic\": \"yes\", \"total_grade\": 27}, {\"sex\": \"Female\", \"romantic\": \"yes\", \"total_grade\": 29}, {\"sex\": \"Female\", \"romantic\": \"yes\", \"total_grade\": 30}, {\"sex\": \"Male\", \"romantic\": \"yes\", \"total_grade\": 38}, {\"sex\": \"Female\", \"romantic\": \"yes\", \"total_grade\": 19}, {\"sex\": \"Female\", \"romantic\": \"yes\", \"total_grade\": 33}, {\"sex\": \"Male\", \"romantic\": \"yes\", \"total_grade\": 34}, {\"sex\": \"Female\", \"romantic\": \"yes\", \"total_grade\": 24}, {\"sex\": \"Female\", \"romantic\": \"yes\", \"total_grade\": 22}, {\"sex\": \"Female\", \"romantic\": \"yes\", \"total_grade\": 27}, {\"sex\": \"Male\", \"romantic\": \"yes\", \"total_grade\": 50}, {\"sex\": \"Male\", \"romantic\": \"yes\", \"total_grade\": 36}, {\"sex\": \"Female\", \"romantic\": \"yes\", \"total_grade\": 45}, {\"sex\": \"Male\", \"romantic\": \"yes\", \"total_grade\": 27}, {\"sex\": \"Female\", \"romantic\": \"yes\", \"total_grade\": 39}, {\"sex\": \"Female\", \"romantic\": \"yes\", \"total_grade\": 23}, {\"sex\": \"Female\", \"romantic\": \"yes\", \"total_grade\": 28}, {\"sex\": \"Female\", \"romantic\": \"yes\", \"total_grade\": 12}, {\"sex\": \"Female\", \"romantic\": \"yes\", \"total_grade\": 8}, {\"sex\": \"Female\", \"romantic\": \"yes\", \"total_grade\": 35}, {\"sex\": \"Male\", \"romantic\": \"yes\", \"total_grade\": 9}, {\"sex\": \"Female\", \"romantic\": \"yes\", \"total_grade\": 11}, {\"sex\": \"Female\", \"romantic\": \"yes\", \"total_grade\": 4}, {\"sex\": \"Male\", \"romantic\": \"yes\", \"total_grade\": 38}, {\"sex\": \"Male\", \"romantic\": \"yes\", \"total_grade\": 13}, {\"sex\": \"Male\", \"romantic\": \"yes\", \"total_grade\": 11}, {\"sex\": \"Male\", \"romantic\": \"yes\", \"total_grade\": 39}, {\"sex\": \"Female\", \"romantic\": \"yes\", \"total_grade\": 30}, {\"sex\": \"Male\", \"romantic\": \"yes\", \"total_grade\": 5}, {\"sex\": \"Female\", \"romantic\": \"yes\", \"total_grade\": 34}, {\"sex\": \"Male\", \"romantic\": \"yes\", \"total_grade\": 34}, {\"sex\": \"Male\", \"romantic\": \"yes\", \"total_grade\": 13}, {\"sex\": \"Male\", \"romantic\": \"yes\", \"total_grade\": 21}, {\"sex\": \"Male\", \"romantic\": \"yes\", \"total_grade\": 20}, {\"sex\": \"Female\", \"romantic\": \"yes\", \"total_grade\": 45}, {\"sex\": \"Female\", \"romantic\": \"yes\", \"total_grade\": 42}, {\"sex\": \"Male\", \"romantic\": \"yes\", \"total_grade\": 44}, {\"sex\": \"Female\", \"romantic\": \"yes\", \"total_grade\": 15}, {\"sex\": \"Male\", \"romantic\": \"yes\", \"total_grade\": 27}, {\"sex\": \"Male\", \"romantic\": \"yes\", \"total_grade\": 31}, {\"sex\": \"Male\", \"romantic\": \"yes\", \"total_grade\": 37}, {\"sex\": \"Female\", \"romantic\": \"yes\", \"total_grade\": 26}, {\"sex\": \"Male\", \"romantic\": \"yes\", \"total_grade\": 35}, {\"sex\": \"Male\", \"romantic\": \"yes\", \"total_grade\": 34}, {\"sex\": \"Male\", \"romantic\": \"yes\", \"total_grade\": 45}, {\"sex\": \"Female\", \"romantic\": \"yes\", \"total_grade\": 24}, {\"sex\": \"Female\", \"romantic\": \"yes\", \"total_grade\": 44}, {\"sex\": \"Female\", \"romantic\": \"yes\", \"total_grade\": 28}, {\"sex\": \"Female\", \"romantic\": \"yes\", \"total_grade\": 36}, {\"sex\": \"Female\", \"romantic\": \"yes\", \"total_grade\": 21}, {\"sex\": \"Male\", \"romantic\": \"yes\", \"total_grade\": 37}, {\"sex\": \"Female\", \"romantic\": \"yes\", \"total_grade\": 16}, {\"sex\": \"Female\", \"romantic\": \"yes\", \"total_grade\": 11}, {\"sex\": \"Female\", \"romantic\": \"yes\", \"total_grade\": 24}, {\"sex\": \"Male\", \"romantic\": \"yes\", \"total_grade\": 27}, {\"sex\": \"Female\", \"romantic\": \"yes\", \"total_grade\": 34}, {\"sex\": \"Female\", \"romantic\": \"yes\", \"total_grade\": 40}, {\"sex\": \"Male\", \"romantic\": \"yes\", \"total_grade\": 29}, {\"sex\": \"Male\", \"romantic\": \"yes\", \"total_grade\": 30}, {\"sex\": \"Male\", \"romantic\": \"yes\", \"total_grade\": 40}, {\"sex\": \"Female\", \"romantic\": \"yes\", \"total_grade\": 37}, {\"sex\": \"Male\", \"romantic\": \"yes\", \"total_grade\": 36}, {\"sex\": \"Female\", \"romantic\": \"yes\", \"total_grade\": 7}, {\"sex\": \"Male\", \"romantic\": \"yes\", \"total_grade\": 22}, {\"sex\": \"Male\", \"romantic\": \"yes\", \"total_grade\": 13}, {\"sex\": \"Female\", \"romantic\": \"yes\", \"total_grade\": 19}, {\"sex\": \"Female\", \"romantic\": \"yes\", \"total_grade\": 53}, {\"sex\": \"Female\", \"romantic\": \"yes\", \"total_grade\": 19}, {\"sex\": \"Male\", \"romantic\": \"yes\", \"total_grade\": 28}, {\"sex\": \"Male\", \"romantic\": \"yes\", \"total_grade\": 29}, {\"sex\": \"Female\", \"romantic\": \"yes\", \"total_grade\": 6}, {\"sex\": \"Female\", \"romantic\": \"yes\", \"total_grade\": 43}, {\"sex\": \"Male\", \"romantic\": \"yes\", \"total_grade\": 43}, {\"sex\": \"Female\", \"romantic\": \"yes\", \"total_grade\": 30}, {\"sex\": \"Female\", \"romantic\": \"yes\", \"total_grade\": 36}, {\"sex\": \"Female\", \"romantic\": \"yes\", \"total_grade\": 28}, {\"sex\": \"Female\", \"romantic\": \"yes\", \"total_grade\": 25}, {\"sex\": \"Male\", \"romantic\": \"yes\", \"total_grade\": 24}, {\"sex\": \"Male\", \"romantic\": \"yes\", \"total_grade\": 34}, {\"sex\": \"Female\", \"romantic\": \"yes\", \"total_grade\": 37}, {\"sex\": \"Female\", \"romantic\": \"yes\", \"total_grade\": 26}, {\"sex\": \"Male\", \"romantic\": \"yes\", \"total_grade\": 47}, {\"sex\": \"Female\", \"romantic\": \"yes\", \"total_grade\": 33}, {\"sex\": \"Male\", \"romantic\": \"yes\", \"total_grade\": 42}, {\"sex\": \"Male\", \"romantic\": \"yes\", \"total_grade\": 25}, {\"sex\": \"Male\", \"romantic\": \"yes\", \"total_grade\": 39}, {\"sex\": \"Female\", \"romantic\": \"yes\", \"total_grade\": 18}, {\"sex\": \"Female\", \"romantic\": \"yes\", \"total_grade\": 39}, {\"sex\": \"Female\", \"romantic\": \"yes\", \"total_grade\": 34}, {\"sex\": \"Female\", \"romantic\": \"yes\", \"total_grade\": 41}, {\"sex\": \"Female\", \"romantic\": \"yes\", \"total_grade\": 35}, {\"sex\": \"Female\", \"romantic\": \"yes\", \"total_grade\": 28}, {\"sex\": \"Female\", \"romantic\": \"yes\", \"total_grade\": 39}, {\"sex\": \"Female\", \"romantic\": \"yes\", \"total_grade\": 29}, {\"sex\": \"Female\", \"romantic\": \"yes\", \"total_grade\": 42}, {\"sex\": \"Female\", \"romantic\": \"yes\", \"total_grade\": 40}, {\"sex\": \"Female\", \"romantic\": \"yes\", \"total_grade\": 16}, {\"sex\": \"Female\", \"romantic\": \"yes\", \"total_grade\": 15}, {\"sex\": \"Female\", \"romantic\": \"yes\", \"total_grade\": 34}, {\"sex\": \"Male\", \"romantic\": \"yes\", \"total_grade\": 46}, {\"sex\": \"Female\", \"romantic\": \"yes\", \"total_grade\": 17}, {\"sex\": \"Female\", \"romantic\": \"yes\", \"total_grade\": 40}, {\"sex\": \"Male\", \"romantic\": \"yes\", \"total_grade\": 47}, {\"sex\": \"Male\", \"romantic\": \"yes\", \"total_grade\": 29}, {\"sex\": \"Female\", \"romantic\": \"yes\", \"total_grade\": 43}, {\"sex\": \"Male\", \"romantic\": \"yes\", \"total_grade\": 23}, {\"sex\": \"Male\", \"romantic\": \"yes\", \"total_grade\": 35}, {\"sex\": \"Female\", \"romantic\": \"yes\", \"total_grade\": 28}, {\"sex\": \"Female\", \"romantic\": \"yes\", \"total_grade\": 35}, {\"sex\": \"Male\", \"romantic\": \"yes\", \"total_grade\": 30}, {\"sex\": \"Female\", \"romantic\": \"yes\", \"total_grade\": 39}, {\"sex\": \"Female\", \"romantic\": \"yes\", \"total_grade\": 32}, {\"sex\": \"Female\", \"romantic\": \"yes\", \"total_grade\": 46}, {\"sex\": \"Male\", \"romantic\": \"yes\", \"total_grade\": 39}, {\"sex\": \"Female\", \"romantic\": \"yes\", \"total_grade\": 13}, {\"sex\": \"Female\", \"romantic\": \"yes\", \"total_grade\": 31}, {\"sex\": \"Female\", \"romantic\": \"yes\", \"total_grade\": 37}, {\"sex\": \"Female\", \"romantic\": \"yes\", \"total_grade\": 23}, {\"sex\": \"Male\", \"romantic\": \"yes\", \"total_grade\": 38}, {\"sex\": \"Female\", \"romantic\": \"yes\", \"total_grade\": 35}, {\"sex\": \"Female\", \"romantic\": \"yes\", \"total_grade\": 44}, {\"sex\": \"Female\", \"romantic\": \"yes\", \"total_grade\": 45}, {\"sex\": \"Male\", \"romantic\": \"yes\", \"total_grade\": 20}, {\"sex\": \"Female\", \"romantic\": \"yes\", \"total_grade\": 17}], \"data-a2d2ff5c57afd94b143a10c57fc106c8\": [{\"sex\": \"Female\", \"romantic\": \"no\", \"total_grade\": 17}, {\"sex\": \"Female\", \"romantic\": \"no\", \"total_grade\": 16}, {\"sex\": \"Female\", \"romantic\": \"no\", \"total_grade\": 25}, {\"sex\": \"Female\", \"romantic\": \"no\", \"total_grade\": 26}, {\"sex\": \"Male\", \"romantic\": \"no\", \"total_grade\": 45}, {\"sex\": \"Male\", \"romantic\": \"no\", \"total_grade\": 35}, {\"sex\": \"Female\", \"romantic\": \"no\", \"total_grade\": 17}, {\"sex\": \"Male\", \"romantic\": \"no\", \"total_grade\": 53}, {\"sex\": \"Male\", \"romantic\": \"no\", \"total_grade\": 44}, {\"sex\": \"Female\", \"romantic\": \"no\", \"total_grade\": 27}, {\"sex\": \"Female\", \"romantic\": \"no\", \"total_grade\": 34}, {\"sex\": \"Male\", \"romantic\": \"no\", \"total_grade\": 42}, {\"sex\": \"Male\", \"romantic\": \"no\", \"total_grade\": 31}, {\"sex\": \"Female\", \"romantic\": \"no\", \"total_grade\": 42}, {\"sex\": \"Female\", \"romantic\": \"no\", \"total_grade\": 41}, {\"sex\": \"Female\", \"romantic\": \"no\", \"total_grade\": 28}, {\"sex\": \"Male\", \"romantic\": \"no\", \"total_grade\": 16}, {\"sex\": \"Male\", \"romantic\": \"no\", \"total_grade\": 28}, {\"sex\": \"Male\", \"romantic\": \"no\", \"total_grade\": 42}, {\"sex\": \"Male\", \"romantic\": \"no\", \"total_grade\": 42}, {\"sex\": \"Male\", \"romantic\": \"no\", \"total_grade\": 46}, {\"sex\": \"Male\", \"romantic\": \"no\", \"total_grade\": 38}, {\"sex\": \"Female\", \"romantic\": \"no\", \"total_grade\": 27}, {\"sex\": \"Female\", \"romantic\": \"no\", \"total_grade\": 23}, {\"sex\": \"Male\", \"romantic\": \"no\", \"total_grade\": 35}, {\"sex\": \"Male\", \"romantic\": \"no\", \"total_grade\": 46}, {\"sex\": \"Male\", \"romantic\": \"no\", \"total_grade\": 33}, {\"sex\": \"Male\", \"romantic\": \"no\", \"total_grade\": 32}, {\"sex\": \"Male\", \"romantic\": \"no\", \"total_grade\": 50}, {\"sex\": \"Male\", \"romantic\": \"no\", \"total_grade\": 30}, {\"sex\": \"Male\", \"romantic\": \"no\", \"total_grade\": 41}, {\"sex\": \"Female\", \"romantic\": \"no\", \"total_grade\": 21}, {\"sex\": \"Male\", \"romantic\": \"no\", \"total_grade\": 49}, {\"sex\": \"Female\", \"romantic\": \"no\", \"total_grade\": 35}, {\"sex\": \"Female\", \"romantic\": \"no\", \"total_grade\": 40}, {\"sex\": \"Male\", \"romantic\": \"no\", \"total_grade\": 55}, {\"sex\": \"Male\", \"romantic\": \"no\", \"total_grade\": 27}, {\"sex\": \"Female\", \"romantic\": \"no\", \"total_grade\": 29}, {\"sex\": \"Female\", \"romantic\": \"no\", \"total_grade\": 34}, {\"sex\": \"Male\", \"romantic\": \"no\", \"total_grade\": 58}, {\"sex\": \"Male\", \"romantic\": \"no\", \"total_grade\": 44}, {\"sex\": \"Female\", \"romantic\": \"no\", \"total_grade\": 21}, {\"sex\": \"Female\", \"romantic\": \"no\", \"total_grade\": 38}, {\"sex\": \"Female\", \"romantic\": \"no\", \"total_grade\": 37}, {\"sex\": \"Male\", \"romantic\": \"no\", \"total_grade\": 32}, {\"sex\": \"Female\", \"romantic\": \"no\", \"total_grade\": 29}, {\"sex\": \"Female\", \"romantic\": \"no\", \"total_grade\": 36}, {\"sex\": \"Female\", \"romantic\": \"no\", \"total_grade\": 44}, {\"sex\": \"Male\", \"romantic\": \"no\", \"total_grade\": 44}, {\"sex\": \"Male\", \"romantic\": \"no\", \"total_grade\": 28}, {\"sex\": \"Female\", \"romantic\": \"no\", \"total_grade\": 47}, {\"sex\": \"Female\", \"romantic\": \"no\", \"total_grade\": 32}, {\"sex\": \"Female\", \"romantic\": \"no\", \"total_grade\": 27}, {\"sex\": \"Female\", \"romantic\": \"no\", \"total_grade\": 28}, {\"sex\": \"Female\", \"romantic\": \"no\", \"total_grade\": 46}, {\"sex\": \"Female\", \"romantic\": \"no\", \"total_grade\": 20}, {\"sex\": \"Female\", \"romantic\": \"no\", \"total_grade\": 25}, {\"sex\": \"Female\", \"romantic\": \"no\", \"total_grade\": 48}, {\"sex\": \"Male\", \"romantic\": \"no\", \"total_grade\": 43}, {\"sex\": \"Male\", \"romantic\": \"no\", \"total_grade\": 30}, {\"sex\": \"Male\", \"romantic\": \"no\", \"total_grade\": 38}, {\"sex\": \"Female\", \"romantic\": \"no\", \"total_grade\": 34}, {\"sex\": \"Male\", \"romantic\": \"no\", \"total_grade\": 28}, {\"sex\": \"Male\", \"romantic\": \"no\", \"total_grade\": 32}, {\"sex\": \"Male\", \"romantic\": \"no\", \"total_grade\": 26}, {\"sex\": \"Female\", \"romantic\": \"no\", \"total_grade\": 15}, {\"sex\": \"Male\", \"romantic\": \"no\", \"total_grade\": 32}, {\"sex\": \"Female\", \"romantic\": \"no\", \"total_grade\": 19}, {\"sex\": \"Male\", \"romantic\": \"no\", \"total_grade\": 45}, {\"sex\": \"Female\", \"romantic\": \"no\", \"total_grade\": 29}, {\"sex\": \"Female\", \"romantic\": \"no\", \"total_grade\": 21}, {\"sex\": \"Female\", \"romantic\": \"no\", \"total_grade\": 41}, {\"sex\": \"Male\", \"romantic\": \"no\", \"total_grade\": 31}, {\"sex\": \"Male\", \"romantic\": \"no\", \"total_grade\": 21}, {\"sex\": \"Female\", \"romantic\": \"no\", \"total_grade\": 51}, {\"sex\": \"Female\", \"romantic\": \"no\", \"total_grade\": 19}, {\"sex\": \"Female\", \"romantic\": \"no\", \"total_grade\": 31}, {\"sex\": \"Male\", \"romantic\": \"no\", \"total_grade\": 38}, {\"sex\": \"Female\", \"romantic\": \"no\", \"total_grade\": 27}, {\"sex\": \"Male\", \"romantic\": \"no\", \"total_grade\": 41}, {\"sex\": \"Female\", \"romantic\": \"no\", \"total_grade\": 39}, {\"sex\": \"Female\", \"romantic\": \"no\", \"total_grade\": 24}, {\"sex\": \"Male\", \"romantic\": \"no\", \"total_grade\": 19}, {\"sex\": \"Male\", \"romantic\": \"no\", \"total_grade\": 37}, {\"sex\": \"Female\", \"romantic\": \"no\", \"total_grade\": 19}, {\"sex\": \"Male\", \"romantic\": \"no\", \"total_grade\": 52}, {\"sex\": \"Female\", \"romantic\": \"no\", \"total_grade\": 32}, {\"sex\": \"Female\", \"romantic\": \"no\", \"total_grade\": 23}, {\"sex\": \"Male\", \"romantic\": \"no\", \"total_grade\": 52}, {\"sex\": \"Male\", \"romantic\": \"no\", \"total_grade\": 56}, {\"sex\": \"Female\", \"romantic\": \"no\", \"total_grade\": 27}, {\"sex\": \"Female\", \"romantic\": \"no\", \"total_grade\": 36}, {\"sex\": \"Male\", \"romantic\": \"no\", \"total_grade\": 56}, {\"sex\": \"Male\", \"romantic\": \"no\", \"total_grade\": 46}, {\"sex\": \"Male\", \"romantic\": \"no\", \"total_grade\": 38}, {\"sex\": \"Male\", \"romantic\": \"no\", \"total_grade\": 40}, {\"sex\": \"Male\", \"romantic\": \"no\", \"total_grade\": 24}, {\"sex\": \"Male\", \"romantic\": \"no\", \"total_grade\": 40}, {\"sex\": \"Female\", \"romantic\": \"no\", \"total_grade\": 46}, {\"sex\": \"Male\", \"romantic\": \"no\", \"total_grade\": 45}, {\"sex\": \"Male\", \"romantic\": \"no\", \"total_grade\": 38}, {\"sex\": \"Male\", \"romantic\": \"no\", \"total_grade\": 38}, {\"sex\": \"Female\", \"romantic\": \"no\", \"total_grade\": 24}, {\"sex\": \"Male\", \"romantic\": \"no\", \"total_grade\": 11}, {\"sex\": \"Male\", \"romantic\": \"no\", \"total_grade\": 54}, {\"sex\": \"Female\", \"romantic\": \"no\", \"total_grade\": 34}, {\"sex\": \"Male\", \"romantic\": \"no\", \"total_grade\": 10}, {\"sex\": \"Female\", \"romantic\": \"no\", \"total_grade\": 47}, {\"sex\": \"Male\", \"romantic\": \"no\", \"total_grade\": 16}, {\"sex\": \"Male\", \"romantic\": \"no\", \"total_grade\": 27}, {\"sex\": \"Female\", \"romantic\": \"no\", \"total_grade\": 31}, {\"sex\": \"Female\", \"romantic\": \"no\", \"total_grade\": 41}, {\"sex\": \"Male\", \"romantic\": \"no\", \"total_grade\": 5}, {\"sex\": \"Female\", \"romantic\": \"no\", \"total_grade\": 30}, {\"sex\": \"Female\", \"romantic\": \"no\", \"total_grade\": 13}, {\"sex\": \"Female\", \"romantic\": \"no\", \"total_grade\": 32}, {\"sex\": \"Male\", \"romantic\": \"no\", \"total_grade\": 27}, {\"sex\": \"Male\", \"romantic\": \"no\", \"total_grade\": 27}, {\"sex\": \"Male\", \"romantic\": \"no\", \"total_grade\": 41}, {\"sex\": \"Female\", \"romantic\": \"no\", \"total_grade\": 27}, {\"sex\": \"Male\", \"romantic\": \"no\", \"total_grade\": 47}, {\"sex\": \"Male\", \"romantic\": \"no\", \"total_grade\": 7}, {\"sex\": \"Male\", \"romantic\": \"no\", \"total_grade\": 30}, {\"sex\": \"Male\", \"romantic\": \"no\", \"total_grade\": 35}, {\"sex\": \"Male\", \"romantic\": \"no\", \"total_grade\": 30}, {\"sex\": \"Female\", \"romantic\": \"no\", \"total_grade\": 13}, {\"sex\": \"Male\", \"romantic\": \"no\", \"total_grade\": 11}, {\"sex\": \"Male\", \"romantic\": \"no\", \"total_grade\": 34}, {\"sex\": \"Female\", \"romantic\": \"no\", \"total_grade\": 30}, {\"sex\": \"Male\", \"romantic\": \"no\", \"total_grade\": 28}, {\"sex\": \"Female\", \"romantic\": \"no\", \"total_grade\": 37}, {\"sex\": \"Male\", \"romantic\": \"no\", \"total_grade\": 17}, {\"sex\": \"Male\", \"romantic\": \"no\", \"total_grade\": 25}, {\"sex\": \"Female\", \"romantic\": \"no\", \"total_grade\": 50}, {\"sex\": \"Female\", \"romantic\": \"no\", \"total_grade\": 37}, {\"sex\": \"Male\", \"romantic\": \"no\", \"total_grade\": 27}, {\"sex\": \"Female\", \"romantic\": \"no\", \"total_grade\": 36}, {\"sex\": \"Female\", \"romantic\": \"no\", \"total_grade\": 25}, {\"sex\": \"Male\", \"romantic\": \"no\", \"total_grade\": 23}, {\"sex\": \"Male\", \"romantic\": \"no\", \"total_grade\": 27}, {\"sex\": \"Male\", \"romantic\": \"no\", \"total_grade\": 41}, {\"sex\": \"Male\", \"romantic\": \"no\", \"total_grade\": 48}, {\"sex\": \"Male\", \"romantic\": \"no\", \"total_grade\": 28}, {\"sex\": \"Female\", \"romantic\": \"no\", \"total_grade\": 54}, {\"sex\": \"Female\", \"romantic\": \"no\", \"total_grade\": 28}, {\"sex\": \"Female\", \"romantic\": \"no\", \"total_grade\": 48}, {\"sex\": \"Female\", \"romantic\": \"no\", \"total_grade\": 28}, {\"sex\": \"Female\", \"romantic\": \"no\", \"total_grade\": 28}, {\"sex\": \"Female\", \"romantic\": \"no\", \"total_grade\": 19}, {\"sex\": \"Female\", \"romantic\": \"no\", \"total_grade\": 31}, {\"sex\": \"Female\", \"romantic\": \"no\", \"total_grade\": 21}, {\"sex\": \"Female\", \"romantic\": \"no\", \"total_grade\": 28}, {\"sex\": \"Female\", \"romantic\": \"no\", \"total_grade\": 24}, {\"sex\": \"Female\", \"romantic\": \"no\", \"total_grade\": 39}, {\"sex\": \"Male\", \"romantic\": \"no\", \"total_grade\": 21}, {\"sex\": \"Female\", \"romantic\": \"no\", \"total_grade\": 28}, {\"sex\": \"Female\", \"romantic\": \"no\", \"total_grade\": 44}, {\"sex\": \"Male\", \"romantic\": \"no\", \"total_grade\": 20}, {\"sex\": \"Female\", \"romantic\": \"no\", \"total_grade\": 22}, {\"sex\": \"Female\", \"romantic\": \"no\", \"total_grade\": 29}, {\"sex\": \"Female\", \"romantic\": \"no\", \"total_grade\": 18}, {\"sex\": \"Female\", \"romantic\": \"no\", \"total_grade\": 49}, {\"sex\": \"Male\", \"romantic\": \"no\", \"total_grade\": 38}, {\"sex\": \"Female\", \"romantic\": \"no\", \"total_grade\": 40}, {\"sex\": \"Female\", \"romantic\": \"no\", \"total_grade\": 46}, {\"sex\": \"Male\", \"romantic\": \"no\", \"total_grade\": 35}, {\"sex\": \"Male\", \"romantic\": \"no\", \"total_grade\": 33}, {\"sex\": \"Male\", \"romantic\": \"no\", \"total_grade\": 40}, {\"sex\": \"Male\", \"romantic\": \"no\", \"total_grade\": 22}, {\"sex\": \"Female\", \"romantic\": \"no\", \"total_grade\": 35}, {\"sex\": \"Male\", \"romantic\": \"no\", \"total_grade\": 14}, {\"sex\": \"Male\", \"romantic\": \"no\", \"total_grade\": 33}, {\"sex\": \"Male\", \"romantic\": \"no\", \"total_grade\": 6}, {\"sex\": \"Male\", \"romantic\": \"no\", \"total_grade\": 37}, {\"sex\": \"Male\", \"romantic\": \"no\", \"total_grade\": 54}, {\"sex\": \"Male\", \"romantic\": \"no\", \"total_grade\": 37}, {\"sex\": \"Male\", \"romantic\": \"no\", \"total_grade\": 43}, {\"sex\": \"Male\", \"romantic\": \"no\", \"total_grade\": 22}, {\"sex\": \"Male\", \"romantic\": \"no\", \"total_grade\": 27}, {\"sex\": \"Male\", \"romantic\": \"no\", \"total_grade\": 23}, {\"sex\": \"Male\", \"romantic\": \"no\", \"total_grade\": 25}, {\"sex\": \"Male\", \"romantic\": \"no\", \"total_grade\": 32}, {\"sex\": \"Male\", \"romantic\": \"no\", \"total_grade\": 24}, {\"sex\": \"Female\", \"romantic\": \"no\", \"total_grade\": 39}, {\"sex\": \"Male\", \"romantic\": \"no\", \"total_grade\": 33}, {\"sex\": \"Male\", \"romantic\": \"no\", \"total_grade\": 43}, {\"sex\": \"Male\", \"romantic\": \"no\", \"total_grade\": 24}, {\"sex\": \"Male\", \"romantic\": \"no\", \"total_grade\": 37}, {\"sex\": \"Female\", \"romantic\": \"no\", \"total_grade\": 28}, {\"sex\": \"Male\", \"romantic\": \"no\", \"total_grade\": 51}, {\"sex\": \"Female\", \"romantic\": \"no\", \"total_grade\": 33}, {\"sex\": \"Female\", \"romantic\": \"no\", \"total_grade\": 27}, {\"sex\": \"Female\", \"romantic\": \"no\", \"total_grade\": 33}, {\"sex\": \"Male\", \"romantic\": \"no\", \"total_grade\": 27}, {\"sex\": \"Male\", \"romantic\": \"no\", \"total_grade\": 31}, {\"sex\": \"Male\", \"romantic\": \"no\", \"total_grade\": 30}, {\"sex\": \"Female\", \"romantic\": \"no\", \"total_grade\": 36}, {\"sex\": \"Female\", \"romantic\": \"no\", \"total_grade\": 27}, {\"sex\": \"Female\", \"romantic\": \"no\", \"total_grade\": 30}, {\"sex\": \"Male\", \"romantic\": \"no\", \"total_grade\": 33}, {\"sex\": \"Female\", \"romantic\": \"no\", \"total_grade\": 55}, {\"sex\": \"Female\", \"romantic\": \"no\", \"total_grade\": 37}, {\"sex\": \"Male\", \"romantic\": \"no\", \"total_grade\": 43}, {\"sex\": \"Male\", \"romantic\": \"no\", \"total_grade\": 43}, {\"sex\": \"Female\", \"romantic\": \"no\", \"total_grade\": 45}, {\"sex\": \"Female\", \"romantic\": \"no\", \"total_grade\": 54}, {\"sex\": \"Male\", \"romantic\": \"no\", \"total_grade\": 41}, {\"sex\": \"Male\", \"romantic\": \"no\", \"total_grade\": 37}, {\"sex\": \"Female\", \"romantic\": \"no\", \"total_grade\": 19}, {\"sex\": \"Female\", \"romantic\": \"no\", \"total_grade\": 41}, {\"sex\": \"Male\", \"romantic\": \"no\", \"total_grade\": 32}, {\"sex\": \"Female\", \"romantic\": \"no\", \"total_grade\": 41}, {\"sex\": \"Female\", \"romantic\": \"no\", \"total_grade\": 52}, {\"sex\": \"Female\", \"romantic\": \"no\", \"total_grade\": 38}, {\"sex\": \"Male\", \"romantic\": \"no\", \"total_grade\": 53}, {\"sex\": \"Female\", \"romantic\": \"no\", \"total_grade\": 32}, {\"sex\": \"Male\", \"romantic\": \"no\", \"total_grade\": 35}, {\"sex\": \"Female\", \"romantic\": \"no\", \"total_grade\": 16}, {\"sex\": \"Female\", \"romantic\": \"no\", \"total_grade\": 32}, {\"sex\": \"Female\", \"romantic\": \"no\", \"total_grade\": 33}, {\"sex\": \"Female\", \"romantic\": \"no\", \"total_grade\": 33}, {\"sex\": \"Female\", \"romantic\": \"no\", \"total_grade\": 41}, {\"sex\": \"Female\", \"romantic\": \"no\", \"total_grade\": 46}, {\"sex\": \"Male\", \"romantic\": \"no\", \"total_grade\": 32}, {\"sex\": \"Male\", \"romantic\": \"no\", \"total_grade\": 45}, {\"sex\": \"Male\", \"romantic\": \"no\", \"total_grade\": 31}, {\"sex\": \"Female\", \"romantic\": \"no\", \"total_grade\": 28}, {\"sex\": \"Male\", \"romantic\": \"no\", \"total_grade\": 25}, {\"sex\": \"Female\", \"romantic\": \"no\", \"total_grade\": 7}, {\"sex\": \"Female\", \"romantic\": \"no\", \"total_grade\": 19}, {\"sex\": \"Female\", \"romantic\": \"no\", \"total_grade\": 46}, {\"sex\": \"Female\", \"romantic\": \"no\", \"total_grade\": 40}, {\"sex\": \"Female\", \"romantic\": \"no\", \"total_grade\": 48}, {\"sex\": \"Female\", \"romantic\": \"no\", \"total_grade\": 29}, {\"sex\": \"Male\", \"romantic\": \"no\", \"total_grade\": 20}, {\"sex\": \"Female\", \"romantic\": \"no\", \"total_grade\": 31}, {\"sex\": \"Male\", \"romantic\": \"no\", \"total_grade\": 37}, {\"sex\": \"Male\", \"romantic\": \"no\", \"total_grade\": 23}, {\"sex\": \"Male\", \"romantic\": \"no\", \"total_grade\": 39}, {\"sex\": \"Male\", \"romantic\": \"no\", \"total_grade\": 24}, {\"sex\": \"Female\", \"romantic\": \"no\", \"total_grade\": 38}, {\"sex\": \"Female\", \"romantic\": \"no\", \"total_grade\": 50}, {\"sex\": \"Male\", \"romantic\": \"no\", \"total_grade\": 37}, {\"sex\": \"Female\", \"romantic\": \"no\", \"total_grade\": 35}, {\"sex\": \"Male\", \"romantic\": \"no\", \"total_grade\": 30}, {\"sex\": \"Female\", \"romantic\": \"no\", \"total_grade\": 16}, {\"sex\": \"Female\", \"romantic\": \"no\", \"total_grade\": 56}, {\"sex\": \"Female\", \"romantic\": \"no\", \"total_grade\": 26}, {\"sex\": \"Female\", \"romantic\": \"no\", \"total_grade\": 27}, {\"sex\": \"Female\", \"romantic\": \"no\", \"total_grade\": 30}, {\"sex\": \"Male\", \"romantic\": \"no\", \"total_grade\": 43}, {\"sex\": \"Male\", \"romantic\": \"no\", \"total_grade\": 32}, {\"sex\": \"Male\", \"romantic\": \"no\", \"total_grade\": 11}, {\"sex\": \"Male\", \"romantic\": \"no\", \"total_grade\": 16}, {\"sex\": \"Female\", \"romantic\": \"no\", \"total_grade\": 29}, {\"sex\": \"Female\", \"romantic\": \"no\", \"total_grade\": 12}, {\"sex\": \"Female\", \"romantic\": \"no\", \"total_grade\": 24}, {\"sex\": \"Female\", \"romantic\": \"no\", \"total_grade\": 11}, {\"sex\": \"Male\", \"romantic\": \"no\", \"total_grade\": 27}, {\"sex\": \"Male\", \"romantic\": \"no\", \"total_grade\": 46}, {\"sex\": \"Male\", \"romantic\": \"no\", \"total_grade\": 25}, {\"sex\": \"Male\", \"romantic\": \"no\", \"total_grade\": 33}, {\"sex\": \"Male\", \"romantic\": \"no\", \"total_grade\": 26}]}}, {\"mode\": \"vega-lite\"});\n",
       "</script>"
      ],
      "text/plain": [
       "alt.HConcatChart(...)"
      ]
     },
     "execution_count": 36,
     "metadata": {},
     "output_type": "execute_result"
    }
   ],
   "source": [
    "P_por.configure_title(\n",
    "    fontSize=14,\n",
    ")"
   ]
  }
 ],
 "metadata": {
  "kernelspec": {
   "display_name": "Python 3",
   "language": "python",
   "name": "python3"
  },
  "language_info": {
   "codemirror_mode": {
    "name": "ipython",
    "version": 3
   },
   "file_extension": ".py",
   "mimetype": "text/x-python",
   "name": "python",
   "nbconvert_exporter": "python",
   "pygments_lexer": "ipython3",
   "version": "3.7.3"
  }
 },
 "nbformat": 4,
 "nbformat_minor": 2
}
